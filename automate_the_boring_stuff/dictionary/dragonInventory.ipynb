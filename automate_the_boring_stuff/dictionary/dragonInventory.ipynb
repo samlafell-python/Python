{
 "cells": [
  {
   "cell_type": "code",
   "execution_count": 60,
   "metadata": {},
   "outputs": [],
   "source": [
    "inventory = {'rope': 1, 'torch': 6, 'gold coin': 42, 'dagger': 1, 'arrow': 12}\n",
    "def displayInventory(inventory):\n",
    "    print('Inventory:')\n",
    "    item_total = 0\n",
    "    for k, v in inventory.items():\n",
    "        print(v, k)\n",
    "        item_total += v\n",
    "    print(\"Total number of items: \" + str(item_total))"
   ]
  },
  {
   "cell_type": "code",
   "execution_count": 61,
   "metadata": {},
   "outputs": [
    {
     "name": "stdout",
     "output_type": "stream",
     "text": [
      "Inventory:\n",
      "1 rope\n",
      "6 torch\n",
      "42 gold coin\n",
      "1 dagger\n",
      "12 arrow\n",
      "Total number of items: 62\n"
     ]
    }
   ],
   "source": [
    "displayInventory(inventory)"
   ]
  },
  {
   "cell_type": "code",
   "execution_count": 62,
   "metadata": {},
   "outputs": [
    {
     "name": "stdout",
     "output_type": "stream",
     "text": [
      "Inventory:\n",
      "45 gold coin\n",
      "1 rope\n",
      "1 dagger\n",
      "1 ruby\n",
      "Total number of items: 48\n"
     ]
    }
   ],
   "source": [
    "def addToInventory(inventory, addedItems):\n",
    "    for i in range(len(addedItems)):\n",
    "        inv.setdefault(addedItems[i], 0)\n",
    "        inv[addedItems[i]] += 1\n",
    "    return inv\n",
    "    \n",
    "\n",
    "inv = {'gold coin': 42, 'rope': 1}\n",
    "dragonLoot = ['gold coin', 'dagger', 'gold coin', 'gold coin', 'ruby']\n",
    "inv = addToInventory(inv, dragonLoot)\n",
    "displayInventory(inv)\n"
   ]
  },
  {
   "cell_type": "code",
   "execution_count": null,
   "metadata": {},
   "outputs": [],
   "source": []
  },
  {
   "cell_type": "code",
   "execution_count": null,
   "metadata": {},
   "outputs": [],
   "source": []
  },
  {
   "cell_type": "code",
   "execution_count": null,
   "metadata": {},
   "outputs": [],
   "source": []
  },
  {
   "cell_type": "code",
   "execution_count": null,
   "metadata": {},
   "outputs": [],
   "source": []
  },
  {
   "cell_type": "code",
   "execution_count": null,
   "metadata": {},
   "outputs": [],
   "source": []
  },
  {
   "cell_type": "code",
   "execution_count": null,
   "metadata": {},
   "outputs": [],
   "source": []
  },
  {
   "cell_type": "code",
   "execution_count": null,
   "metadata": {},
   "outputs": [],
   "source": []
  },
  {
   "cell_type": "code",
   "execution_count": null,
   "metadata": {},
   "outputs": [],
   "source": []
  },
  {
   "cell_type": "code",
   "execution_count": null,
   "metadata": {},
   "outputs": [],
   "source": []
  },
  {
   "cell_type": "code",
   "execution_count": null,
   "metadata": {},
   "outputs": [],
   "source": []
  },
  {
   "cell_type": "code",
   "execution_count": null,
   "metadata": {},
   "outputs": [],
   "source": []
  },
  {
   "cell_type": "code",
   "execution_count": null,
   "metadata": {},
   "outputs": [],
   "source": []
  },
  {
   "cell_type": "code",
   "execution_count": 32,
   "metadata": {},
   "outputs": [
    {
     "name": "stdout",
     "output_type": "stream",
     "text": [
      "Rope\n",
      "Torch\n",
      "Gold Coin\n",
      "Dagger\n",
      "Arrow\n"
     ]
    }
   ],
   "source": [
    "for item in inventory.keys():\n",
    "    print(item.title())"
   ]
  },
  {
   "cell_type": "code",
   "execution_count": null,
   "metadata": {},
   "outputs": [],
   "source": []
  },
  {
   "cell_type": "code",
   "execution_count": 43,
   "metadata": {},
   "outputs": [
    {
     "name": "stdout",
     "output_type": "stream",
     "text": [
      "Rope\n",
      " A Rope is indeed in your inventory. In fact, you have 1!\n",
      "Torch\n",
      " A Torch is indeed in your inventory. In fact, you have 6!\n",
      "Gold Coin\n",
      "Dagger\n",
      "Arrow\n"
     ]
    }
   ],
   "source": [
    "items = ['rope', 'torch']\n",
    "for item in inventory.keys():\n",
    "    print(item.title())\n",
    "    \n",
    "    if item in items:\n",
    "        print(' A ' + item.title() + ' is indeed in your inventory. In fact, you have ' + str(inventory[item]) + '!')"
   ]
  },
  {
   "cell_type": "code",
   "execution_count": 44,
   "metadata": {},
   "outputs": [
    {
     "name": "stdout",
     "output_type": "stream",
     "text": [
      "We need to get some dragon hide man.\n"
     ]
    }
   ],
   "source": [
    "if 'dragon hide' not in inventory.keys():\n",
    "    print('We need to get some dragon hide man.')"
   ]
  },
  {
   "cell_type": "code",
   "execution_count": 45,
   "metadata": {},
   "outputs": [
    {
     "name": "stdout",
     "output_type": "stream",
     "text": [
      "Arrow? Yeah, you have some.\n",
      "Dagger? Yeah, you have some.\n",
      "Gold Coin? Yeah, you have some.\n",
      "Rope? Yeah, you have some.\n",
      "Torch? Yeah, you have some.\n"
     ]
    }
   ],
   "source": [
    "for item in sorted(inventory.keys()):\n",
    "    print(item.title() + '? Yeah, you have some.')"
   ]
  },
  {
   "cell_type": "code",
   "execution_count": 47,
   "metadata": {},
   "outputs": [
    {
     "name": "stdout",
     "output_type": "stream",
     "text": [
      "You have the following items:\n",
      "Rope\n",
      "Torch\n",
      "Gold Coin\n",
      "Dagger\n",
      "Arrow\n"
     ]
    }
   ],
   "source": [
    "print('You have the following items:')\n",
    "for item in inventory.keys():\n",
    "    print(item.title())"
   ]
  },
  {
   "cell_type": "code",
   "execution_count": 49,
   "metadata": {},
   "outputs": [
    {
     "name": "stdout",
     "output_type": "stream",
     "text": [
      "You have the following items:\n",
      "Dagger\n",
      "Arrow\n",
      "Gold Coin\n",
      "Torch\n",
      "Rope\n"
     ]
    }
   ],
   "source": [
    "# With a Set instead of a dictionary. This eliminates duplicates\n",
    "print('You have the following items:')\n",
    "for item in set(inventory.keys()):\n",
    "    print(item.title())"
   ]
  },
  {
   "cell_type": "code",
   "execution_count": null,
   "metadata": {},
   "outputs": [],
   "source": []
  }
 ],
 "metadata": {
  "kernelspec": {
   "display_name": "Python 3",
   "language": "python",
   "name": "python3"
  },
  "language_info": {
   "codemirror_mode": {
    "name": "ipython",
    "version": 3
   },
   "file_extension": ".py",
   "mimetype": "text/x-python",
   "name": "python",
   "nbconvert_exporter": "python",
   "pygments_lexer": "ipython3",
   "version": "3.7.1"
  }
 },
 "nbformat": 4,
 "nbformat_minor": 2
}
