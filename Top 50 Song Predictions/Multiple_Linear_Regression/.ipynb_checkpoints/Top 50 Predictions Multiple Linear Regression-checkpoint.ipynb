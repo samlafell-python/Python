{
 "cells": [
  {
   "cell_type": "markdown",
   "metadata": {},
   "source": [
    "# What makes a song popular?\n",
    "## An analysis of top songs from 2010-2019"
   ]
  },
  {
   "cell_type": "markdown",
   "metadata": {},
   "source": [
    "In this analysis we will use a dataset of roughly ~470 songs to determine what makes a song popular.\n",
    "\n",
    "Dataset: The dataset found on kaggle (https://www.kaggle.com/leonardopena/top-spotify-songs-from-20102019-by-year)\n",
    "\n",
    "Goal: \n",
    "- There is a column in the data called \"popularity\" -- we will be using the data from 2010-2018 to train models and predict on the 2019 data. We will use popularity as the target variable. This is a continuous variable in the dataset.\n",
    "\n",
    "Initial reactions:\n",
    "- Break up popularity into 4 buckets. From Least Popular, Moderately Popular, Popular, Very Popular\n",
    "- Use this ordinal target as well as the original continuous target\n",
    "    - Do this for the sake of trying multiple methods\n",
    "\n",
    "Methods:\n",
    "- Try multiple linear regression\n",
    "- Try multinominal logistic regression\n",
    "- Other machine learning methods as we get further along\n",
    "\n",
    "To begin: Import data. Start getting to know it a little bit better. Distributions of continuous variables and counts of categorical variables."
   ]
  },
  {
   "cell_type": "code",
   "execution_count": 1,
   "metadata": {},
   "outputs": [],
   "source": [
    "import pandas as pd\n",
    "import numpy as np\n",
    "import matplotlib.pyplot as plt\n",
    "import seaborn as sns\n",
    "import sklearn\n",
    "import scipy.stats as stats\n",
    "import researchpy as rp\n",
    "import statsmodels.api as sm\n",
    "from statsmodels.formula.api import ols\n",
    "from sklearn.linear_model import LinearRegression \n",
    "\n",
    "    \n",
    "import matplotlib.pyplot as plt"
   ]
  },
  {
   "cell_type": "code",
   "execution_count": 2,
   "metadata": {},
   "outputs": [],
   "source": [
    "def inspect_rows(df, keep_column=[]):\n",
    "    '''\n",
    "    To find 0's in the dataset, but when you have columns where 0 entries are expected and allowed\n",
    "    \n",
    "    :param df: Data Frame where the data is located\n",
    "    \n",
    "    :param keep_column: If you expect one column to have a lot of 0's, \n",
    "    don't try to find rows where that column has 0's.\n",
    "    \n",
    "    :return new_df: A new dataframe where any rows that had more than 50% missing values are removed\n",
    "    '''\n",
    "    \n",
    "    # Drop the column\n",
    "    new_df = df.drop([keep_column], axis=1)\n",
    "    \n",
    "    # Search the rows in the DF for columns with 0\n",
    "    rowsw0 = np.where(new_df == 0.0)[0]\n",
    "    \n",
    "    rowsw0 = list(dict.fromkeys(rowsw0))\n",
    "    \n",
    "    # Define short_df\n",
    "    short_df = df.iloc[rowsw0,:]\n",
    "    \n",
    "    # Filter the dataframe to only give us where we have 0 values NOT in the acoustic column\n",
    "    return short_df"
   ]
  },
  {
   "cell_type": "code",
   "execution_count": 3,
   "metadata": {},
   "outputs": [],
   "source": [
    "def delete_rows(df, short_df):\n",
    "    '''\n",
    "    :param df: Takes the original dataframe of interest\n",
    "    \n",
    "    :param short_df: A shortened dataframe that contains rows that we might be concerned about\n",
    "    \n",
    "    NOTE: Change the `1` in the first line of the for loop to change to a different propotion\n",
    "    \n",
    "    :return new_df: A new dataframe where any rows that had more than 50% missing values are removed\n",
    "    '''\n",
    "    \n",
    "    # Find the ratio of 0s in the row to not 0\n",
    "    zeros = pd.Series(np.where(short_df == 0)[0]).value_counts()/pd.Series(np.where(short_df != 0)[0]).value_counts()\n",
    "\n",
    "    # Drop the Entries\n",
    "    for i in list(np.where(zeros>1)[0]):\n",
    "        new_df = df.drop(short_df.iloc[i,].name)\n",
    "        \n",
    "    # Reset index for a continuous index\n",
    "    new_df.reset_index()\n",
    "    \n",
    "    return new_df"
   ]
  },
  {
   "cell_type": "code",
   "execution_count": 4,
   "metadata": {},
   "outputs": [],
   "source": [
    "df = pd.read_csv('top10s.csv', encoding='iso-8859-1').drop(['Unnamed: 0'],axis=1)"
   ]
  },
  {
   "cell_type": "code",
   "execution_count": 5,
   "metadata": {
    "scrolled": true
   },
   "outputs": [
    {
     "data": {
      "text/html": [
       "<div>\n",
       "<style scoped>\n",
       "    .dataframe tbody tr th:only-of-type {\n",
       "        vertical-align: middle;\n",
       "    }\n",
       "\n",
       "    .dataframe tbody tr th {\n",
       "        vertical-align: top;\n",
       "    }\n",
       "\n",
       "    .dataframe thead th {\n",
       "        text-align: right;\n",
       "    }\n",
       "</style>\n",
       "<table border=\"1\" class=\"dataframe\">\n",
       "  <thead>\n",
       "    <tr style=\"text-align: right;\">\n",
       "      <th></th>\n",
       "      <th>title</th>\n",
       "      <th>artist</th>\n",
       "      <th>top genre</th>\n",
       "      <th>year</th>\n",
       "      <th>bpm</th>\n",
       "      <th>nrgy</th>\n",
       "      <th>dnce</th>\n",
       "      <th>dB</th>\n",
       "      <th>live</th>\n",
       "      <th>val</th>\n",
       "      <th>dur</th>\n",
       "      <th>acous</th>\n",
       "      <th>spch</th>\n",
       "      <th>pop</th>\n",
       "    </tr>\n",
       "  </thead>\n",
       "  <tbody>\n",
       "    <tr>\n",
       "      <td>0</td>\n",
       "      <td>Hey, Soul Sister</td>\n",
       "      <td>Train</td>\n",
       "      <td>neo mellow</td>\n",
       "      <td>2010</td>\n",
       "      <td>97</td>\n",
       "      <td>89</td>\n",
       "      <td>67</td>\n",
       "      <td>-4</td>\n",
       "      <td>8</td>\n",
       "      <td>80</td>\n",
       "      <td>217</td>\n",
       "      <td>19</td>\n",
       "      <td>4</td>\n",
       "      <td>83</td>\n",
       "    </tr>\n",
       "    <tr>\n",
       "      <td>1</td>\n",
       "      <td>Love The Way You Lie</td>\n",
       "      <td>Eminem</td>\n",
       "      <td>detroit hip hop</td>\n",
       "      <td>2010</td>\n",
       "      <td>87</td>\n",
       "      <td>93</td>\n",
       "      <td>75</td>\n",
       "      <td>-5</td>\n",
       "      <td>52</td>\n",
       "      <td>64</td>\n",
       "      <td>263</td>\n",
       "      <td>24</td>\n",
       "      <td>23</td>\n",
       "      <td>82</td>\n",
       "    </tr>\n",
       "    <tr>\n",
       "      <td>2</td>\n",
       "      <td>TiK ToK</td>\n",
       "      <td>Kesha</td>\n",
       "      <td>dance pop</td>\n",
       "      <td>2010</td>\n",
       "      <td>120</td>\n",
       "      <td>84</td>\n",
       "      <td>76</td>\n",
       "      <td>-3</td>\n",
       "      <td>29</td>\n",
       "      <td>71</td>\n",
       "      <td>200</td>\n",
       "      <td>10</td>\n",
       "      <td>14</td>\n",
       "      <td>80</td>\n",
       "    </tr>\n",
       "    <tr>\n",
       "      <td>3</td>\n",
       "      <td>Bad Romance</td>\n",
       "      <td>Lady Gaga</td>\n",
       "      <td>dance pop</td>\n",
       "      <td>2010</td>\n",
       "      <td>119</td>\n",
       "      <td>92</td>\n",
       "      <td>70</td>\n",
       "      <td>-4</td>\n",
       "      <td>8</td>\n",
       "      <td>71</td>\n",
       "      <td>295</td>\n",
       "      <td>0</td>\n",
       "      <td>4</td>\n",
       "      <td>79</td>\n",
       "    </tr>\n",
       "    <tr>\n",
       "      <td>4</td>\n",
       "      <td>Just the Way You Are</td>\n",
       "      <td>Bruno Mars</td>\n",
       "      <td>pop</td>\n",
       "      <td>2010</td>\n",
       "      <td>109</td>\n",
       "      <td>84</td>\n",
       "      <td>64</td>\n",
       "      <td>-5</td>\n",
       "      <td>9</td>\n",
       "      <td>43</td>\n",
       "      <td>221</td>\n",
       "      <td>2</td>\n",
       "      <td>4</td>\n",
       "      <td>78</td>\n",
       "    </tr>\n",
       "  </tbody>\n",
       "</table>\n",
       "</div>"
      ],
      "text/plain": [
       "                  title      artist        top genre  year  bpm  nrgy  dnce  \\\n",
       "0      Hey, Soul Sister       Train       neo mellow  2010   97    89    67   \n",
       "1  Love The Way You Lie      Eminem  detroit hip hop  2010   87    93    75   \n",
       "2               TiK ToK       Kesha        dance pop  2010  120    84    76   \n",
       "3           Bad Romance   Lady Gaga        dance pop  2010  119    92    70   \n",
       "4  Just the Way You Are  Bruno Mars              pop  2010  109    84    64   \n",
       "\n",
       "   dB  live  val  dur  acous  spch  pop  \n",
       "0  -4     8   80  217     19     4   83  \n",
       "1  -5    52   64  263     24    23   82  \n",
       "2  -3    29   71  200     10    14   80  \n",
       "3  -4     8   71  295      0     4   79  \n",
       "4  -5     9   43  221      2     4   78  "
      ]
     },
     "execution_count": 5,
     "metadata": {},
     "output_type": "execute_result"
    }
   ],
   "source": [
    "df.head()\n",
    "#df = df.rename(columns={\"top genre\": \"top_genre\"})"
   ]
  },
  {
   "cell_type": "code",
   "execution_count": 6,
   "metadata": {},
   "outputs": [
    {
     "data": {
      "text/plain": [
       "<matplotlib.axes._subplots.AxesSubplot at 0x1c1a1d2350>"
      ]
     },
     "execution_count": 6,
     "metadata": {},
     "output_type": "execute_result"
    },
    {
     "data": {
      "image/png": "[encoded data removed]",
      "text/plain": [
       "<Figure size 432x288 with 1 Axes>"
      ]
     },
     "metadata": {
      "needs_background": "light"
     },
     "output_type": "display_data"
    }
   ],
   "source": [
    "# How are the years distributed?\n",
    "sns.distplot(df['year'], kde=True)"
   ]
  },
  {
   "cell_type": "code",
   "execution_count": 7,
   "metadata": {},
   "outputs": [
    {
     "data": {
      "text/plain": [
       "<matplotlib.axes._subplots.AxesSubplot at 0x1c1ab23f10>"
      ]
     },
     "execution_count": 7,
     "metadata": {},
     "output_type": "execute_result"
    },
    {
     "data": {
      "image/png": "[encoded data removed]",
      "text/plain": [
       "<Figure size 432x288 with 1 Axes>"
      ]
     },
     "metadata": {
      "needs_background": "light"
     },
     "output_type": "display_data"
    }
   ],
   "source": [
    "# How do the years get more popular as time goes on?\n",
    "sns.barplot(x=\"year\", y=\"pop\", data=df)"
   ]
  },
  {
   "cell_type": "markdown",
   "metadata": {},
   "source": [
    "General thought here, there is a gradual increase in popularity of songs overtime."
   ]
  },
  {
   "cell_type": "code",
   "execution_count": 8,
   "metadata": {
    "scrolled": false
   },
   "outputs": [
    {
     "data": {
      "text/plain": [
       "<matplotlib.axes._subplots.AxesSubplot at 0x1c1ac21cd0>"
      ]
     },
     "execution_count": 8,
     "metadata": {},
     "output_type": "execute_result"
    },
    {
     "data": {
      "image/png": "[encoded data removed]",
      "text/plain": [
       "<Figure size 432x288 with 1 Axes>"
      ]
     },
     "metadata": {
      "needs_background": "light"
     },
     "output_type": "display_data"
    }
   ],
   "source": [
    "# How is acoustic distributed?\n",
    "sns.distplot(df['acous'], kde=False)"
   ]
  },
  {
   "cell_type": "markdown",
   "metadata": {},
   "source": [
    "Mostly 0. A few outliers closer to 100. But almost 0."
   ]
  },
  {
   "cell_type": "code",
   "execution_count": 9,
   "metadata": {},
   "outputs": [
    {
     "data": {
      "text/plain": [
       "<matplotlib.axes._subplots.AxesSubplot at 0x1c1acecbd0>"
      ]
     },
     "execution_count": 9,
     "metadata": {},
     "output_type": "execute_result"
    },
    {
     "data": {
      "image/png": "[encoded data removed]",
      "text/plain": [
       "<Figure size 432x288 with 1 Axes>"
      ]
     },
     "metadata": {
      "needs_background": "light"
     },
     "output_type": "display_data"
    }
   ],
   "source": [
    "# How is bpm distributed?\n",
    "sns.distplot(df['bpm'], kde=False)"
   ]
  },
  {
   "cell_type": "code",
   "execution_count": 10,
   "metadata": {
    "scrolled": true
   },
   "outputs": [
    {
     "data": {
      "text/html": [
       "<div>\n",
       "<style scoped>\n",
       "    .dataframe tbody tr th:only-of-type {\n",
       "        vertical-align: middle;\n",
       "    }\n",
       "\n",
       "    .dataframe tbody tr th {\n",
       "        vertical-align: top;\n",
       "    }\n",
       "\n",
       "    .dataframe thead th {\n",
       "        text-align: right;\n",
       "    }\n",
       "</style>\n",
       "<table border=\"1\" class=\"dataframe\">\n",
       "  <thead>\n",
       "    <tr style=\"text-align: right;\">\n",
       "      <th></th>\n",
       "      <th>title</th>\n",
       "      <th>artist</th>\n",
       "      <th>top genre</th>\n",
       "      <th>year</th>\n",
       "      <th>bpm</th>\n",
       "      <th>nrgy</th>\n",
       "      <th>dnce</th>\n",
       "      <th>dB</th>\n",
       "      <th>live</th>\n",
       "      <th>val</th>\n",
       "      <th>dur</th>\n",
       "      <th>acous</th>\n",
       "      <th>spch</th>\n",
       "      <th>pop</th>\n",
       "    </tr>\n",
       "  </thead>\n",
       "  <tbody>\n",
       "    <tr>\n",
       "      <td>442</td>\n",
       "      <td>Million Years Ago</td>\n",
       "      <td>Adele</td>\n",
       "      <td>british soul</td>\n",
       "      <td>2016</td>\n",
       "      <td>0</td>\n",
       "      <td>0</td>\n",
       "      <td>0</td>\n",
       "      <td>-60</td>\n",
       "      <td>0</td>\n",
       "      <td>0</td>\n",
       "      <td>227</td>\n",
       "      <td>0</td>\n",
       "      <td>0</td>\n",
       "      <td>0</td>\n",
       "    </tr>\n",
       "  </tbody>\n",
       "</table>\n",
       "</div>"
      ],
      "text/plain": [
       "                 title artist     top genre  year  bpm  nrgy  dnce  dB  live  \\\n",
       "442  Million Years Ago  Adele  british soul  2016    0     0     0 -60     0   \n",
       "\n",
       "     val  dur  acous  spch  pop  \n",
       "442    0  227      0     0    0  "
      ]
     },
     "execution_count": 10,
     "metadata": {},
     "output_type": "execute_result"
    }
   ],
   "source": [
    "# That's probably not right. Where is bpm near 0?\n",
    "df[df['bpm'] < 20]"
   ]
  },
  {
   "cell_type": "markdown",
   "metadata": {},
   "source": [
    "Good business sense will tell us to delete this row. With the context of the problem, imputation does not make sense. We will drop this from the data."
   ]
  },
  {
   "cell_type": "markdown",
   "metadata": {},
   "source": [
    "## Data Cleaning"
   ]
  },
  {
   "cell_type": "code",
   "execution_count": 11,
   "metadata": {},
   "outputs": [],
   "source": [
    "# Use the inspect rows function we defined at the beginning\n",
    "short_df = inspect_rows(df, keep_column='acous')\n",
    "# Million Years Ago looks not great. Let's drop that."
   ]
  },
  {
   "cell_type": "code",
   "execution_count": 12,
   "metadata": {},
   "outputs": [],
   "source": [
    "# Use the delete rows function we defined at the beginning\n",
    "df = delete_rows(df, short_df)"
   ]
  },
  {
   "cell_type": "code",
   "execution_count": 13,
   "metadata": {},
   "outputs": [
    {
     "data": {
      "text/html": [
       "<div>\n",
       "<style scoped>\n",
       "    .dataframe tbody tr th:only-of-type {\n",
       "        vertical-align: middle;\n",
       "    }\n",
       "\n",
       "    .dataframe tbody tr th {\n",
       "        vertical-align: top;\n",
       "    }\n",
       "\n",
       "    .dataframe thead th {\n",
       "        text-align: right;\n",
       "    }\n",
       "</style>\n",
       "<table border=\"1\" class=\"dataframe\">\n",
       "  <thead>\n",
       "    <tr style=\"text-align: right;\">\n",
       "      <th></th>\n",
       "      <th>title</th>\n",
       "      <th>artist</th>\n",
       "      <th>top genre</th>\n",
       "      <th>year</th>\n",
       "      <th>bpm</th>\n",
       "      <th>nrgy</th>\n",
       "      <th>dnce</th>\n",
       "      <th>dB</th>\n",
       "      <th>live</th>\n",
       "      <th>val</th>\n",
       "      <th>dur</th>\n",
       "      <th>acous</th>\n",
       "      <th>spch</th>\n",
       "      <th>pop</th>\n",
       "    </tr>\n",
       "  </thead>\n",
       "  <tbody>\n",
       "    <tr>\n",
       "      <td>50</td>\n",
       "      <td>Hello</td>\n",
       "      <td>Martin Solveig</td>\n",
       "      <td>big room</td>\n",
       "      <td>2010</td>\n",
       "      <td>128</td>\n",
       "      <td>98</td>\n",
       "      <td>67</td>\n",
       "      <td>-3</td>\n",
       "      <td>10</td>\n",
       "      <td>45</td>\n",
       "      <td>191</td>\n",
       "      <td>1</td>\n",
       "      <td>3</td>\n",
       "      <td>0</td>\n",
       "    </tr>\n",
       "    <tr>\n",
       "      <td>138</td>\n",
       "      <td>Blow Me (One Last Kiss)</td>\n",
       "      <td>P!nk</td>\n",
       "      <td>dance pop</td>\n",
       "      <td>2012</td>\n",
       "      <td>114</td>\n",
       "      <td>92</td>\n",
       "      <td>60</td>\n",
       "      <td>-3</td>\n",
       "      <td>25</td>\n",
       "      <td>75</td>\n",
       "      <td>256</td>\n",
       "      <td>0</td>\n",
       "      <td>4</td>\n",
       "      <td>0</td>\n",
       "    </tr>\n",
       "    <tr>\n",
       "      <td>267</td>\n",
       "      <td>Not a Bad Thing</td>\n",
       "      <td>Justin Timberlake</td>\n",
       "      <td>dance pop</td>\n",
       "      <td>2014</td>\n",
       "      <td>86</td>\n",
       "      <td>73</td>\n",
       "      <td>59</td>\n",
       "      <td>-6</td>\n",
       "      <td>38</td>\n",
       "      <td>46</td>\n",
       "      <td>266</td>\n",
       "      <td>27</td>\n",
       "      <td>6</td>\n",
       "      <td>0</td>\n",
       "    </tr>\n",
       "    <tr>\n",
       "      <td>362</td>\n",
       "      <td>L.A.LOVE (la la)</td>\n",
       "      <td>Fergie</td>\n",
       "      <td>dance pop</td>\n",
       "      <td>2015</td>\n",
       "      <td>202</td>\n",
       "      <td>39</td>\n",
       "      <td>48</td>\n",
       "      <td>-8</td>\n",
       "      <td>26</td>\n",
       "      <td>27</td>\n",
       "      <td>193</td>\n",
       "      <td>2</td>\n",
       "      <td>9</td>\n",
       "      <td>0</td>\n",
       "    </tr>\n",
       "    <tr>\n",
       "      <td>443</td>\n",
       "      <td>Shape of You</td>\n",
       "      <td>Ed Sheeran</td>\n",
       "      <td>pop</td>\n",
       "      <td>2017</td>\n",
       "      <td>96</td>\n",
       "      <td>65</td>\n",
       "      <td>83</td>\n",
       "      <td>-3</td>\n",
       "      <td>9</td>\n",
       "      <td>93</td>\n",
       "      <td>234</td>\n",
       "      <td>58</td>\n",
       "      <td>8</td>\n",
       "      <td>87</td>\n",
       "    </tr>\n",
       "  </tbody>\n",
       "</table>\n",
       "</div>"
      ],
      "text/plain": [
       "                       title             artist  top genre  year  bpm  nrgy  \\\n",
       "50                     Hello     Martin Solveig   big room  2010  128    98   \n",
       "138  Blow Me (One Last Kiss)               P!nk  dance pop  2012  114    92   \n",
       "267          Not a Bad Thing  Justin Timberlake  dance pop  2014   86    73   \n",
       "362         L.A.LOVE (la la)             Fergie  dance pop  2015  202    39   \n",
       "443             Shape of You         Ed Sheeran        pop  2017   96    65   \n",
       "\n",
       "     dnce  dB  live  val  dur  acous  spch  pop  \n",
       "50     67  -3    10   45  191      1     3    0  \n",
       "138    60  -3    25   75  256      0     4    0  \n",
       "267    59  -6    38   46  266     27     6    0  \n",
       "362    48  -8    26   27  193      2     9    0  \n",
       "443    83  -3     9   93  234     58     8   87  "
      ]
     },
     "execution_count": 13,
     "metadata": {},
     "output_type": "execute_result"
    }
   ],
   "source": [
    "# Check to see if the function did what it was supposed to\n",
    "df.iloc[short_df.index,]\n",
    "# We see that Million Years Ago is gone. And Shape of you has replaced it. Boom"
   ]
  },
  {
   "cell_type": "code",
   "execution_count": 14,
   "metadata": {
    "scrolled": true
   },
   "outputs": [
    {
     "data": {
      "text/plain": [
       "<matplotlib.axes._subplots.AxesSubplot at 0x1c1aec0c50>"
      ]
     },
     "execution_count": 14,
     "metadata": {},
     "output_type": "execute_result"
    },
    {
     "data": {
      "image/png": "[encoded data removed]",
      "text/plain": [
       "<Figure size 432x288 with 1 Axes>"
      ]
     },
     "metadata": {
      "needs_background": "light"
     },
     "output_type": "display_data"
    }
   ],
   "source": [
    "# Now, how is bpm distributed?\n",
    "sns.distplot(df['bpm'], kde=False)\n",
    "# Compare this to the original BPM histogram and it looks a lot better"
   ]
  },
  {
   "cell_type": "code",
   "execution_count": 15,
   "metadata": {},
   "outputs": [
    {
     "data": {
      "text/plain": [
       "<matplotlib.axes._subplots.AxesSubplot at 0x1c1af2d650>"
      ]
     },
     "execution_count": 15,
     "metadata": {},
     "output_type": "execute_result"
    },
    {
     "data": {
      "image/png": "[encoded data removed]",
      "text/plain": [
       "<Figure size 432x288 with 1 Axes>"
      ]
     },
     "metadata": {
      "needs_background": "light"
     },
     "output_type": "display_data"
    }
   ],
   "source": [
    "# Are there outliers?\n",
    "sns.boxplot(df['bpm'])"
   ]
  },
  {
   "cell_type": "markdown",
   "metadata": {},
   "source": [
    "BPM looks better now."
   ]
  },
  {
   "cell_type": "markdown",
   "metadata": {},
   "source": [
    "## ANOVA for Difference in Popularity between Years. Then another to see between Genre differences."
   ]
  },
  {
   "cell_type": "code",
   "execution_count": 16,
   "metadata": {},
   "outputs": [
    {
     "name": "stdout",
     "output_type": "stream",
     "text": [
      "\n",
      "\n"
     ]
    },
    {
     "data": {
      "text/html": [
       "<div>\n",
       "<style scoped>\n",
       "    .dataframe tbody tr th:only-of-type {\n",
       "        vertical-align: middle;\n",
       "    }\n",
       "\n",
       "    .dataframe tbody tr th {\n",
       "        vertical-align: top;\n",
       "    }\n",
       "\n",
       "    .dataframe thead th {\n",
       "        text-align: right;\n",
       "    }\n",
       "</style>\n",
       "<table border=\"1\" class=\"dataframe\">\n",
       "  <thead>\n",
       "    <tr style=\"text-align: right;\">\n",
       "      <th></th>\n",
       "      <th>N</th>\n",
       "      <th>Mean</th>\n",
       "      <th>SD</th>\n",
       "      <th>SE</th>\n",
       "      <th>95% Conf.</th>\n",
       "      <th>Interval</th>\n",
       "    </tr>\n",
       "    <tr>\n",
       "      <th>year</th>\n",
       "      <th></th>\n",
       "      <th></th>\n",
       "      <th></th>\n",
       "      <th></th>\n",
       "      <th></th>\n",
       "      <th></th>\n",
       "    </tr>\n",
       "  </thead>\n",
       "  <tbody>\n",
       "    <tr>\n",
       "      <td>2010</td>\n",
       "      <td>51</td>\n",
       "      <td>64.254902</td>\n",
       "      <td>13.227007</td>\n",
       "      <td>1.852152</td>\n",
       "      <td>60.588563</td>\n",
       "      <td>67.921241</td>\n",
       "    </tr>\n",
       "    <tr>\n",
       "      <td>2011</td>\n",
       "      <td>53</td>\n",
       "      <td>61.867925</td>\n",
       "      <td>16.058831</td>\n",
       "      <td>2.205850</td>\n",
       "      <td>57.503084</td>\n",
       "      <td>66.232765</td>\n",
       "    </tr>\n",
       "    <tr>\n",
       "      <td>2012</td>\n",
       "      <td>35</td>\n",
       "      <td>67.771429</td>\n",
       "      <td>14.528037</td>\n",
       "      <td>2.455686</td>\n",
       "      <td>62.888014</td>\n",
       "      <td>72.654843</td>\n",
       "    </tr>\n",
       "    <tr>\n",
       "      <td>2013</td>\n",
       "      <td>71</td>\n",
       "      <td>63.985915</td>\n",
       "      <td>12.864673</td>\n",
       "      <td>1.526756</td>\n",
       "      <td>60.972175</td>\n",
       "      <td>66.999656</td>\n",
       "    </tr>\n",
       "    <tr>\n",
       "      <td>2014</td>\n",
       "      <td>58</td>\n",
       "      <td>62.706897</td>\n",
       "      <td>15.545077</td>\n",
       "      <td>2.041169</td>\n",
       "      <td>58.671265</td>\n",
       "      <td>66.742528</td>\n",
       "    </tr>\n",
       "    <tr>\n",
       "      <td>2015</td>\n",
       "      <td>95</td>\n",
       "      <td>64.568421</td>\n",
       "      <td>14.352443</td>\n",
       "      <td>1.472530</td>\n",
       "      <td>61.666952</td>\n",
       "      <td>67.469890</td>\n",
       "    </tr>\n",
       "    <tr>\n",
       "      <td>2016</td>\n",
       "      <td>79</td>\n",
       "      <td>64.974684</td>\n",
       "      <td>14.614688</td>\n",
       "      <td>1.644281</td>\n",
       "      <td>61.731300</td>\n",
       "      <td>68.218067</td>\n",
       "    </tr>\n",
       "    <tr>\n",
       "      <td>2017</td>\n",
       "      <td>65</td>\n",
       "      <td>69.015385</td>\n",
       "      <td>10.982219</td>\n",
       "      <td>1.362177</td>\n",
       "      <td>66.324741</td>\n",
       "      <td>71.706028</td>\n",
       "    </tr>\n",
       "    <tr>\n",
       "      <td>2018</td>\n",
       "      <td>64</td>\n",
       "      <td>72.437500</td>\n",
       "      <td>9.870390</td>\n",
       "      <td>1.233799</td>\n",
       "      <td>70.000138</td>\n",
       "      <td>74.874862</td>\n",
       "    </tr>\n",
       "    <tr>\n",
       "      <td>2019</td>\n",
       "      <td>31</td>\n",
       "      <td>84.354839</td>\n",
       "      <td>8.292761</td>\n",
       "      <td>1.489424</td>\n",
       "      <td>81.387312</td>\n",
       "      <td>87.322365</td>\n",
       "    </tr>\n",
       "  </tbody>\n",
       "</table>\n",
       "</div>"
      ],
      "text/plain": [
       "       N       Mean         SD        SE  95% Conf.   Interval\n",
       "year                                                          \n",
       "2010  51  64.254902  13.227007  1.852152  60.588563  67.921241\n",
       "2011  53  61.867925  16.058831  2.205850  57.503084  66.232765\n",
       "2012  35  67.771429  14.528037  2.455686  62.888014  72.654843\n",
       "2013  71  63.985915  12.864673  1.526756  60.972175  66.999656\n",
       "2014  58  62.706897  15.545077  2.041169  58.671265  66.742528\n",
       "2015  95  64.568421  14.352443  1.472530  61.666952  67.469890\n",
       "2016  79  64.974684  14.614688  1.644281  61.731300  68.218067\n",
       "2017  65  69.015385  10.982219  1.362177  66.324741  71.706028\n",
       "2018  64  72.437500   9.870390  1.233799  70.000138  74.874862\n",
       "2019  31  84.354839   8.292761  1.489424  81.387312  87.322365"
      ]
     },
     "execution_count": 16,
     "metadata": {},
     "output_type": "execute_result"
    }
   ],
   "source": [
    "# Researchpy to look at the differences in the Popularity column by year\n",
    "rp.summary_cont(df['pop'].groupby(df['year']))"
   ]
  },
  {
   "cell_type": "code",
   "execution_count": 17,
   "metadata": {},
   "outputs": [
    {
     "data": {
      "text/plain": [
       "F_onewayResult(statistic=9.753603616201566, pvalue=5.556663482446503e-14)"
      ]
     },
     "execution_count": 17,
     "metadata": {},
     "output_type": "execute_result"
    }
   ],
   "source": [
    "# Conduct an ANOVA test to see if there is a significant difference in popularity across all the years in our data\n",
    "stats.f_oneway(df['pop'][df['year'] == 2010], \n",
    "               df['pop'][df['year'] == 2011],\n",
    "               df['pop'][df['year'] == 2012],\n",
    "               df['pop'][df['year'] == 2013],\n",
    "               df['pop'][df['year'] == 2014],\n",
    "               df['pop'][df['year'] == 2015],\n",
    "               df['pop'][df['year'] == 2016],\n",
    "               df['pop'][df['year'] == 2017],\n",
    "               df['pop'][df['year'] == 2018],\n",
    "               df['pop'][df['year'] == 2019])"
   ]
  },
  {
   "cell_type": "markdown",
   "metadata": {},
   "source": [
    "What we learn from this F-statistic and p-value is that there IS a significant difference SOMEHWERE in our data. We don't know where exactly yet. But the difference is statistically significant."
   ]
  },
  {
   "cell_type": "markdown",
   "metadata": {},
   "source": [
    "## Next, use ANOVA with Statsmodels to get a little bit more robust information. This output looks a little bit more like SAS."
   ]
  },
  {
   "cell_type": "code",
   "execution_count": 18,
   "metadata": {},
   "outputs": [
    {
     "data": {
      "text/html": [
       "<table class=\"simpletable\">\n",
       "<caption>OLS Regression Results</caption>\n",
       "<tr>\n",
       "  <th>Dep. Variable:</th>           <td>pop</td>       <th>  R-squared:         </th> <td>   0.129</td>\n",
       "</tr>\n",
       "<tr>\n",
       "  <th>Model:</th>                   <td>OLS</td>       <th>  Adj. R-squared:    </th> <td>   0.116</td>\n",
       "</tr>\n",
       "<tr>\n",
       "  <th>Method:</th>             <td>Least Squares</td>  <th>  F-statistic:       </th> <td>   9.754</td>\n",
       "</tr>\n",
       "<tr>\n",
       "  <th>Date:</th>             <td>Mon, 02 Mar 2020</td> <th>  Prob (F-statistic):</th> <td>5.56e-14</td>\n",
       "</tr>\n",
       "<tr>\n",
       "  <th>Time:</th>                 <td>18:54:48</td>     <th>  Log-Likelihood:    </th> <td> -2412.5</td>\n",
       "</tr>\n",
       "<tr>\n",
       "  <th>No. Observations:</th>      <td>   602</td>      <th>  AIC:               </th> <td>   4845.</td>\n",
       "</tr>\n",
       "<tr>\n",
       "  <th>Df Residuals:</th>          <td>   592</td>      <th>  BIC:               </th> <td>   4889.</td>\n",
       "</tr>\n",
       "<tr>\n",
       "  <th>Df Model:</th>              <td>     9</td>      <th>                     </th>     <td> </td>   \n",
       "</tr>\n",
       "<tr>\n",
       "  <th>Covariance Type:</th>      <td>nonrobust</td>    <th>                     </th>     <td> </td>   \n",
       "</tr>\n",
       "</table>\n",
       "<table class=\"simpletable\">\n",
       "<tr>\n",
       "         <td></td>            <th>coef</th>     <th>std err</th>      <th>t</th>      <th>P>|t|</th>  <th>[0.025</th>    <th>0.975]</th>  \n",
       "</tr>\n",
       "<tr>\n",
       "  <th>Intercept</th>       <td>   64.2549</td> <td>    1.879</td> <td>   34.190</td> <td> 0.000</td> <td>   60.564</td> <td>   67.946</td>\n",
       "</tr>\n",
       "<tr>\n",
       "  <th>C(year)[T.2011]</th> <td>   -2.3870</td> <td>    2.633</td> <td>   -0.907</td> <td> 0.365</td> <td>   -7.557</td> <td>    2.783</td>\n",
       "</tr>\n",
       "<tr>\n",
       "  <th>C(year)[T.2012]</th> <td>    3.5165</td> <td>    2.946</td> <td>    1.194</td> <td> 0.233</td> <td>   -2.269</td> <td>    9.302</td>\n",
       "</tr>\n",
       "<tr>\n",
       "  <th>C(year)[T.2013]</th> <td>   -0.2690</td> <td>    2.464</td> <td>   -0.109</td> <td> 0.913</td> <td>   -5.107</td> <td>    4.569</td>\n",
       "</tr>\n",
       "<tr>\n",
       "  <th>C(year)[T.2014]</th> <td>   -1.5480</td> <td>    2.576</td> <td>   -0.601</td> <td> 0.548</td> <td>   -6.608</td> <td>    3.512</td>\n",
       "</tr>\n",
       "<tr>\n",
       "  <th>C(year)[T.2015]</th> <td>    0.3135</td> <td>    2.330</td> <td>    0.135</td> <td> 0.893</td> <td>   -4.262</td> <td>    4.889</td>\n",
       "</tr>\n",
       "<tr>\n",
       "  <th>C(year)[T.2016]</th> <td>    0.7198</td> <td>    2.411</td> <td>    0.299</td> <td> 0.765</td> <td>   -4.015</td> <td>    5.455</td>\n",
       "</tr>\n",
       "<tr>\n",
       "  <th>C(year)[T.2017]</th> <td>    4.7605</td> <td>    2.511</td> <td>    1.896</td> <td> 0.058</td> <td>   -0.170</td> <td>    9.691</td>\n",
       "</tr>\n",
       "<tr>\n",
       "  <th>C(year)[T.2018]</th> <td>    8.1826</td> <td>    2.519</td> <td>    3.248</td> <td> 0.001</td> <td>    3.235</td> <td>   13.130</td>\n",
       "</tr>\n",
       "<tr>\n",
       "  <th>C(year)[T.2019]</th> <td>   20.0999</td> <td>    3.057</td> <td>    6.576</td> <td> 0.000</td> <td>   14.097</td> <td>   26.103</td>\n",
       "</tr>\n",
       "</table>\n",
       "<table class=\"simpletable\">\n",
       "<tr>\n",
       "  <th>Omnibus:</th>       <td>187.846</td> <th>  Durbin-Watson:     </th> <td>   0.477</td> \n",
       "</tr>\n",
       "<tr>\n",
       "  <th>Prob(Omnibus):</th> <td> 0.000</td>  <th>  Jarque-Bera (JB):  </th> <td> 574.190</td> \n",
       "</tr>\n",
       "<tr>\n",
       "  <th>Skew:</th>          <td>-1.498</td>  <th>  Prob(JB):          </th> <td>2.07e-125</td>\n",
       "</tr>\n",
       "<tr>\n",
       "  <th>Kurtosis:</th>      <td> 6.730</td>  <th>  Cond. No.          </th> <td>    11.9</td> \n",
       "</tr>\n",
       "</table><br/><br/>Warnings:<br/>[1] Standard Errors assume that the covariance matrix of the errors is correctly specified."
      ],
      "text/plain": [
       "<class 'statsmodels.iolib.summary.Summary'>\n",
       "\"\"\"\n",
       "                            OLS Regression Results                            \n",
       "==============================================================================\n",
       "Dep. Variable:                    pop   R-squared:                       0.129\n",
       "Model:                            OLS   Adj. R-squared:                  0.116\n",
       "Method:                 Least Squares   F-statistic:                     9.754\n",
       "Date:                Mon, 02 Mar 2020   Prob (F-statistic):           5.56e-14\n",
       "Time:                        18:54:48   Log-Likelihood:                -2412.5\n",
       "No. Observations:                 602   AIC:                             4845.\n",
       "Df Residuals:                     592   BIC:                             4889.\n",
       "Df Model:                           9                                         \n",
       "Covariance Type:            nonrobust                                         \n",
       "===================================================================================\n",
       "                      coef    std err          t      P>|t|      [0.025      0.975]\n",
       "-----------------------------------------------------------------------------------\n",
       "Intercept          64.2549      1.879     34.190      0.000      60.564      67.946\n",
       "C(year)[T.2011]    -2.3870      2.633     -0.907      0.365      -7.557       2.783\n",
       "C(year)[T.2012]     3.5165      2.946      1.194      0.233      -2.269       9.302\n",
       "C(year)[T.2013]    -0.2690      2.464     -0.109      0.913      -5.107       4.569\n",
       "C(year)[T.2014]    -1.5480      2.576     -0.601      0.548      -6.608       3.512\n",
       "C(year)[T.2015]     0.3135      2.330      0.135      0.893      -4.262       4.889\n",
       "C(year)[T.2016]     0.7198      2.411      0.299      0.765      -4.015       5.455\n",
       "C(year)[T.2017]     4.7605      2.511      1.896      0.058      -0.170       9.691\n",
       "C(year)[T.2018]     8.1826      2.519      3.248      0.001       3.235      13.130\n",
       "C(year)[T.2019]    20.0999      3.057      6.576      0.000      14.097      26.103\n",
       "==============================================================================\n",
       "Omnibus:                      187.846   Durbin-Watson:                   0.477\n",
       "Prob(Omnibus):                  0.000   Jarque-Bera (JB):              574.190\n",
       "Skew:                          -1.498   Prob(JB):                    2.07e-125\n",
       "Kurtosis:                       6.730   Cond. No.                         11.9\n",
       "==============================================================================\n",
       "\n",
       "Warnings:\n",
       "[1] Standard Errors assume that the covariance matrix of the errors is correctly specified.\n",
       "\"\"\""
      ]
     },
     "execution_count": 18,
     "metadata": {},
     "output_type": "execute_result"
    }
   ],
   "source": [
    "# Fit an Ordinary Least Squares model and retrieve the summary statistics\n",
    "results = ols('pop ~ C(year)', data=df).fit()\n",
    "results.summary()"
   ]
  },
  {
   "cell_type": "markdown",
   "metadata": {},
   "source": [
    "We see the F-statistic and p-value haven't changed from researchpy to Statsmodels.\n",
    "\n",
    "\n",
    "## MAJOR ISSUE WITH INITIAL GOAL:\n",
    "One potential issue here is if 2019 looks different then the data from before. If we train our model on 2010-2018 but then the 2019 data is statistically significantly different than that data, we begin to extrapolate and our model isn't doing as well as it can do.\n",
    "\n",
    "### Avoiding Extrapolation?"
   ]
  },
  {
   "cell_type": "markdown",
   "metadata": {},
   "source": [
    "## Using Statsmodels ANOVA to interpret differences"
   ]
  },
  {
   "cell_type": "markdown",
   "metadata": {},
   "source": [
    "- We see the coefficients, those are saying how different the mean of each year is compared to the mean of 2010 (our control group here).\n",
    "\n",
    "\n",
    "- Overall, this output is more useful to us because we are able to see the difference of each group compared to the 2010 group. Thus, we begin to find out where our significant differences are.\n",
    "\n",
    "\n",
    "- We notice 2018 and 2019 are significantly different than 2010. The rest are not significantly different."
   ]
  },
  {
   "cell_type": "markdown",
   "metadata": {},
   "source": [
    "Next, we are looking for the overall model performance given by the ANOVA table."
   ]
  },
  {
   "cell_type": "code",
   "execution_count": 19,
   "metadata": {},
   "outputs": [
    {
     "data": {
      "text/html": [
       "<div>\n",
       "<style scoped>\n",
       "    .dataframe tbody tr th:only-of-type {\n",
       "        vertical-align: middle;\n",
       "    }\n",
       "\n",
       "    .dataframe tbody tr th {\n",
       "        vertical-align: top;\n",
       "    }\n",
       "\n",
       "    .dataframe thead th {\n",
       "        text-align: right;\n",
       "    }\n",
       "</style>\n",
       "<table border=\"1\" class=\"dataframe\">\n",
       "  <thead>\n",
       "    <tr style=\"text-align: right;\">\n",
       "      <th></th>\n",
       "      <th>sum_sq</th>\n",
       "      <th>df</th>\n",
       "      <th>F</th>\n",
       "      <th>PR(&gt;F)</th>\n",
       "    </tr>\n",
       "  </thead>\n",
       "  <tbody>\n",
       "    <tr>\n",
       "      <td>C(year)</td>\n",
       "      <td>15812.110539</td>\n",
       "      <td>9.0</td>\n",
       "      <td>9.753604</td>\n",
       "      <td>5.556663e-14</td>\n",
       "    </tr>\n",
       "    <tr>\n",
       "      <td>Residual</td>\n",
       "      <td>106636.022351</td>\n",
       "      <td>592.0</td>\n",
       "      <td>NaN</td>\n",
       "      <td>NaN</td>\n",
       "    </tr>\n",
       "  </tbody>\n",
       "</table>\n",
       "</div>"
      ],
      "text/plain": [
       "                 sum_sq     df         F        PR(>F)\n",
       "C(year)    15812.110539    9.0  9.753604  5.556663e-14\n",
       "Residual  106636.022351  592.0       NaN           NaN"
      ]
     },
     "execution_count": 19,
     "metadata": {},
     "output_type": "execute_result"
    }
   ],
   "source": [
    "aov_table = sm.stats.anova_lm(results, typ=2)\n",
    "aov_table"
   ]
  },
  {
   "cell_type": "markdown",
   "metadata": {},
   "source": [
    "From the table, we see the sum of squares model (15,812) and sum of squares residual (106,636). This checks out for the R-Sq of .129 that we saw up above."
   ]
  },
  {
   "cell_type": "markdown",
   "metadata": {},
   "source": [
    "This means that 12.9% of the variance in the popularity is explained only by the year that the song was released in.\n",
    "The more recent song, the more likely it is to be popular. This checks out with the bar charts we saw in our initial exploration."
   ]
  },
  {
   "cell_type": "markdown",
   "metadata": {},
   "source": [
    "# Modeling"
   ]
  },
  {
   "cell_type": "markdown",
   "metadata": {},
   "source": [
    "## Regression Techniques"
   ]
  },
  {
   "cell_type": "markdown",
   "metadata": {},
   "source": [
    "We learn from the above section that there are significant differences between the years. Although, the years aren't necessarily a key contributor to popularity. This shows us that we are on right track but need more info.\n",
    "\n",
    "How can we get our model to explain more of the variance in popularity? Regression.\n",
    "\n",
    "Although, where to start? We know that Simple Linear isn't the answer here because we have multiple variables and we want to use as much of the data as we can.\n",
    "\n",
    "So that leads us to think about Multiple Regression techniques. \n",
    "- We need to decide on a regression technique\n",
    "    - While also looking at variable importance. \n",
    "    - Only keeping the variables that provide us with relevant information. \n",
    "- Also, we should look at Multicollinearity. That will make our estimates unstable. We want to get rid of collinearity before model building.\n",
    "    - Note that Ridge, Lasso, or Elastic Net Regression might allow us to make a regression model without explicity testing for multicollinearity but we will test for the sake of #learning.\n",
    "- What about the categorical variables?\n",
    "    - Let's create an indicator variable for them. Pandas Get Dummies might be a good way to encode these while maintaining the ability to know which column stands for which with those variables."
   ]
  },
  {
   "cell_type": "code",
   "execution_count": 20,
   "metadata": {},
   "outputs": [
    {
     "data": {
      "text/html": [
       "<div>\n",
       "<style scoped>\n",
       "    .dataframe tbody tr th:only-of-type {\n",
       "        vertical-align: middle;\n",
       "    }\n",
       "\n",
       "    .dataframe tbody tr th {\n",
       "        vertical-align: top;\n",
       "    }\n",
       "\n",
       "    .dataframe thead th {\n",
       "        text-align: right;\n",
       "    }\n",
       "</style>\n",
       "<table border=\"1\" class=\"dataframe\">\n",
       "  <thead>\n",
       "    <tr style=\"text-align: right;\">\n",
       "      <th></th>\n",
       "      <th>year</th>\n",
       "      <th>bpm</th>\n",
       "      <th>nrgy</th>\n",
       "      <th>dnce</th>\n",
       "      <th>dB</th>\n",
       "      <th>live</th>\n",
       "      <th>val</th>\n",
       "      <th>dur</th>\n",
       "      <th>acous</th>\n",
       "      <th>spch</th>\n",
       "      <th>pop</th>\n",
       "    </tr>\n",
       "  </thead>\n",
       "  <tbody>\n",
       "    <tr>\n",
       "      <td>year</td>\n",
       "      <td>1.000000</td>\n",
       "      <td>-0.101932</td>\n",
       "      <td>-0.225296</td>\n",
       "      <td>0.085272</td>\n",
       "      <td>-0.179094</td>\n",
       "      <td>-0.135352</td>\n",
       "      <td>-0.120510</td>\n",
       "      <td>-0.215458</td>\n",
       "      <td>0.102411</td>\n",
       "      <td>0.005789</td>\n",
       "      <td>0.249841</td>\n",
       "    </tr>\n",
       "    <tr>\n",
       "      <td>bpm</td>\n",
       "      <td>-0.101932</td>\n",
       "      <td>1.000000</td>\n",
       "      <td>0.095070</td>\n",
       "      <td>-0.176331</td>\n",
       "      <td>0.048817</td>\n",
       "      <td>0.072284</td>\n",
       "      <td>-0.002492</td>\n",
       "      <td>-0.029381</td>\n",
       "      <td>-0.121118</td>\n",
       "      <td>0.051148</td>\n",
       "      <td>-0.018128</td>\n",
       "    </tr>\n",
       "    <tr>\n",
       "      <td>nrgy</td>\n",
       "      <td>-0.225296</td>\n",
       "      <td>0.095070</td>\n",
       "      <td>1.000000</td>\n",
       "      <td>0.137382</td>\n",
       "      <td>0.663623</td>\n",
       "      <td>0.180074</td>\n",
       "      <td>0.400945</td>\n",
       "      <td>-0.145399</td>\n",
       "      <td>-0.576507</td>\n",
       "      <td>0.100965</td>\n",
       "      <td>-0.093693</td>\n",
       "    </tr>\n",
       "    <tr>\n",
       "      <td>dnce</td>\n",
       "      <td>0.085272</td>\n",
       "      <td>-0.176331</td>\n",
       "      <td>0.137382</td>\n",
       "      <td>1.000000</td>\n",
       "      <td>0.129737</td>\n",
       "      <td>-0.040512</td>\n",
       "      <td>0.494928</td>\n",
       "      <td>-0.179794</td>\n",
       "      <td>-0.250560</td>\n",
       "      <td>-0.037757</td>\n",
       "      <td>0.082394</td>\n",
       "    </tr>\n",
       "    <tr>\n",
       "      <td>dB</td>\n",
       "      <td>-0.179094</td>\n",
       "      <td>0.048817</td>\n",
       "      <td>0.663623</td>\n",
       "      <td>0.129737</td>\n",
       "      <td>1.000000</td>\n",
       "      <td>0.062574</td>\n",
       "      <td>0.342983</td>\n",
       "      <td>-0.168415</td>\n",
       "      <td>-0.349600</td>\n",
       "      <td>-0.061267</td>\n",
       "      <td>0.014400</td>\n",
       "    </tr>\n",
       "    <tr>\n",
       "      <td>live</td>\n",
       "      <td>-0.135352</td>\n",
       "      <td>0.072284</td>\n",
       "      <td>0.180074</td>\n",
       "      <td>-0.040512</td>\n",
       "      <td>0.062574</td>\n",
       "      <td>1.000000</td>\n",
       "      <td>0.015081</td>\n",
       "      <td>0.098645</td>\n",
       "      <td>-0.099917</td>\n",
       "      <td>0.141947</td>\n",
       "      <td>-0.087770</td>\n",
       "    </tr>\n",
       "    <tr>\n",
       "      <td>val</td>\n",
       "      <td>-0.120510</td>\n",
       "      <td>-0.002492</td>\n",
       "      <td>0.400945</td>\n",
       "      <td>0.494928</td>\n",
       "      <td>0.342983</td>\n",
       "      <td>0.015081</td>\n",
       "      <td>1.000000</td>\n",
       "      <td>-0.263175</td>\n",
       "      <td>-0.252936</td>\n",
       "      <td>0.118355</td>\n",
       "      <td>0.021746</td>\n",
       "    </tr>\n",
       "    <tr>\n",
       "      <td>dur</td>\n",
       "      <td>-0.215458</td>\n",
       "      <td>-0.029381</td>\n",
       "      <td>-0.145399</td>\n",
       "      <td>-0.179794</td>\n",
       "      <td>-0.168415</td>\n",
       "      <td>0.098645</td>\n",
       "      <td>-0.263175</td>\n",
       "      <td>1.000000</td>\n",
       "      <td>0.091917</td>\n",
       "      <td>0.054747</td>\n",
       "      <td>-0.105707</td>\n",
       "    </tr>\n",
       "    <tr>\n",
       "      <td>acous</td>\n",
       "      <td>0.102411</td>\n",
       "      <td>-0.121118</td>\n",
       "      <td>-0.576507</td>\n",
       "      <td>-0.250560</td>\n",
       "      <td>-0.349600</td>\n",
       "      <td>-0.099917</td>\n",
       "      <td>-0.252936</td>\n",
       "      <td>0.091917</td>\n",
       "      <td>1.000000</td>\n",
       "      <td>0.001483</td>\n",
       "      <td>0.021837</td>\n",
       "    </tr>\n",
       "    <tr>\n",
       "      <td>spch</td>\n",
       "      <td>0.005789</td>\n",
       "      <td>0.051148</td>\n",
       "      <td>0.100965</td>\n",
       "      <td>-0.037757</td>\n",
       "      <td>-0.061267</td>\n",
       "      <td>0.141947</td>\n",
       "      <td>0.118355</td>\n",
       "      <td>0.054747</td>\n",
       "      <td>0.001483</td>\n",
       "      <td>1.000000</td>\n",
       "      <td>-0.050956</td>\n",
       "    </tr>\n",
       "    <tr>\n",
       "      <td>pop</td>\n",
       "      <td>0.249841</td>\n",
       "      <td>-0.018128</td>\n",
       "      <td>-0.093693</td>\n",
       "      <td>0.082394</td>\n",
       "      <td>0.014400</td>\n",
       "      <td>-0.087770</td>\n",
       "      <td>0.021746</td>\n",
       "      <td>-0.105707</td>\n",
       "      <td>0.021837</td>\n",
       "      <td>-0.050956</td>\n",
       "      <td>1.000000</td>\n",
       "    </tr>\n",
       "  </tbody>\n",
       "</table>\n",
       "</div>"
      ],
      "text/plain": [
       "           year       bpm      nrgy      dnce        dB      live       val  \\\n",
       "year   1.000000 -0.101932 -0.225296  0.085272 -0.179094 -0.135352 -0.120510   \n",
       "bpm   -0.101932  1.000000  0.095070 -0.176331  0.048817  0.072284 -0.002492   \n",
       "nrgy  -0.225296  0.095070  1.000000  0.137382  0.663623  0.180074  0.400945   \n",
       "dnce   0.085272 -0.176331  0.137382  1.000000  0.129737 -0.040512  0.494928   \n",
       "dB    -0.179094  0.048817  0.663623  0.129737  1.000000  0.062574  0.342983   \n",
       "live  -0.135352  0.072284  0.180074 -0.040512  0.062574  1.000000  0.015081   \n",
       "val   -0.120510 -0.002492  0.400945  0.494928  0.342983  0.015081  1.000000   \n",
       "dur   -0.215458 -0.029381 -0.145399 -0.179794 -0.168415  0.098645 -0.263175   \n",
       "acous  0.102411 -0.121118 -0.576507 -0.250560 -0.349600 -0.099917 -0.252936   \n",
       "spch   0.005789  0.051148  0.100965 -0.037757 -0.061267  0.141947  0.118355   \n",
       "pop    0.249841 -0.018128 -0.093693  0.082394  0.014400 -0.087770  0.021746   \n",
       "\n",
       "            dur     acous      spch       pop  \n",
       "year  -0.215458  0.102411  0.005789  0.249841  \n",
       "bpm   -0.029381 -0.121118  0.051148 -0.018128  \n",
       "nrgy  -0.145399 -0.576507  0.100965 -0.093693  \n",
       "dnce  -0.179794 -0.250560 -0.037757  0.082394  \n",
       "dB    -0.168415 -0.349600 -0.061267  0.014400  \n",
       "live   0.098645 -0.099917  0.141947 -0.087770  \n",
       "val   -0.263175 -0.252936  0.118355  0.021746  \n",
       "dur    1.000000  0.091917  0.054747 -0.105707  \n",
       "acous  0.091917  1.000000  0.001483  0.021837  \n",
       "spch   0.054747  0.001483  1.000000 -0.050956  \n",
       "pop   -0.105707  0.021837 -0.050956  1.000000  "
      ]
     },
     "execution_count": 20,
     "metadata": {},
     "output_type": "execute_result"
    }
   ],
   "source": [
    "# First step, evaluating multicollinearity.\n",
    "df.corr()"
   ]
  },
  {
   "cell_type": "code",
   "execution_count": 21,
   "metadata": {},
   "outputs": [
    {
     "data": {
      "image/png": "[encoded data removed]",
      "text/plain": [
       "<Figure size 396x324 with 2 Axes>"
      ]
     },
     "metadata": {
      "needs_background": "light"
     },
     "output_type": "display_data"
    }
   ],
   "source": [
    "# This will show us the correlation structure.\n",
    "corr = df.corr()\n",
    "mask = np.zeros_like(corr, dtype=np.bool)\n",
    "mask[np.triu_indices_from(mask)] = True\n",
    "\n",
    "f, ax = plt.subplots(figsize=(5.5, 4.5))\n",
    "cmap = sns.color_palette(\"RdBu_r\", 11)\n",
    "\n",
    "# Draw the heatmap\n",
    "_ = sns.heatmap(corr, mask=None, cmap=cmap, vmax=1, center=0, square=True,\n",
    "               linewidths=.5, cbar_kws={'shrink': .5})"
   ]
  },
  {
   "cell_type": "markdown",
   "metadata": {},
   "source": [
    "At first glance this isnt too bad. It looks like acoustic/energy might be correlated (negatively), which makes sense.\n",
    "\n",
    "Also, energy and dB seems to be related which makes sense as well.\n",
    "\n",
    "Let's look for VIF > 10 to see if they need to be removed from the modeling process in some way."
   ]
  },
  {
   "cell_type": "code",
   "execution_count": 22,
   "metadata": {
    "scrolled": true
   },
   "outputs": [
    {
     "data": {
      "text/plain": [
       "year              1.245260\n",
       "bpm               1.081490\n",
       "nrgy              2.711639\n",
       "dnce              1.518635\n",
       "dB                1.916149\n",
       "live              1.080801\n",
       "val               1.714105\n",
       "dur               1.195465\n",
       "acous             1.623068\n",
       "spch              1.098760\n",
       "pop               1.093605\n",
       "Intercept    746364.709884\n",
       "dtype: float64"
      ]
     },
     "execution_count": 22,
     "metadata": {},
     "output_type": "execute_result"
    }
   ],
   "source": [
    "# To calculate VIF, Python OLS requires a constant column. We will add that.\n",
    "\n",
    "from statsmodels.stats.outliers_influence import variance_inflation_factor\n",
    "from statsmodels.tools.tools import add_constant\n",
    "\n",
    "# Only use numeric data\n",
    "regression = df._get_numeric_data()\n",
    "\n",
    "# Add Constant\n",
    "regression['Intercept'] = 1\n",
    "\n",
    "# Calculate VIF\n",
    "pd.Series([variance_inflation_factor(regression.values, i) \n",
    "               for i in range(regression.shape[1])], \n",
    "              index=regression.columns)"
   ]
  },
  {
   "cell_type": "markdown",
   "metadata": {},
   "source": [
    "## Small Discussion about VIF\n"
   ]
  },
  {
   "cell_type": "markdown",
   "metadata": {},
   "source": [
    "Generally, a VIF above 10 means that term needs to be removed. Here, \"nrgy\" has a VIF of 2.71. There are other schools of thought that say above 2.5-3 is not good. Well, with \"nrgy\" right in that range, we will keep an eye on it.\n",
    "\n",
    "We may run a model with nrgy and without nrgy and look at the tradeoffs. If we don't lose too much by removing it, there might be a case to remove it."
   ]
  },
  {
   "cell_type": "markdown",
   "metadata": {},
   "source": [
    "## Model Building: What do we consider?\n",
    "- Multiple Linear Regression: Only using continuous, numeric predictors.\n",
    "\n",
    "\n",
    "- Generalized Additive Model (GAM): They provide a modeling approach that combines powerful statistical learning with interpretability, smooth functions, and flexibility. Good use of OneHotEncoding before training a GAM. Also, GAMs allow for non-linear relationships. MLR and Generalized Linear Model (GLM) will assume linear relationships. For another notebook."
   ]
  },
  {
   "cell_type": "markdown",
   "metadata": {},
   "source": [
    "### Multiple Linear Regression"
   ]
  },
  {
   "cell_type": "code",
   "execution_count": 23,
   "metadata": {},
   "outputs": [],
   "source": [
    "# Train/Test Split\n",
    "msk = np.random.rand(len(df)) < 0.75\n",
    "train = df[msk]\n",
    "test = df[~msk]"
   ]
  },
  {
   "cell_type": "markdown",
   "metadata": {},
   "source": [
    "## Multiple Regression\n",
    "### Assumptions:\n",
    "1. Linear Relationship"
   ]
  },
  {
   "cell_type": "code",
   "execution_count": 24,
   "metadata": {},
   "outputs": [
    {
     "name": "stderr",
     "output_type": "stream",
     "text": [
      "/Users/samlafell/opt/anaconda3/lib/python3.7/site-packages/pandas/core/frame.py:3494: SettingWithCopyWarning: \n",
      "A value is trying to be set on a copy of a slice from a DataFrame.\n",
      "Try using .loc[row_indexer,col_indexer] = value instead\n",
      "\n",
      "See the caveats in the documentation: http://pandas.pydata.org/pandas-docs/stable/user_guide/indexing.html#returning-a-view-versus-a-copy\n",
      "  self[k1] = value[k2]\n"
     ]
    }
   ],
   "source": [
    "# Change many columns to numeric\n",
    "cols = train.columns.drop(['title', 'artist', 'top genre'])\n",
    "train[cols] = train[cols].apply(pd.to_numeric, errors='coerce')\n",
    "\n",
    "# Change many columns to numeric\n",
    "cols = test.columns.drop(['title', 'artist', 'top genre'])\n",
    "test[cols] = test[cols].apply(pd.to_numeric, errors='coerce')"
   ]
  },
  {
   "cell_type": "code",
   "execution_count": 27,
   "metadata": {},
   "outputs": [],
   "source": [
    "# Subset Train to numeric columns\n",
    "model_train = train.select_dtypes('number')\n",
    "\n",
    "# Subset Test to numeric columns\n",
    "model_test = test.select_dtypes('number')"
   ]
  },
  {
   "cell_type": "code",
   "execution_count": 28,
   "metadata": {},
   "outputs": [],
   "source": [
    "# Subset to numeric columns\n",
    "model_test = test.select_dtypes('number')"
   ]
  },
  {
   "cell_type": "code",
   "execution_count": 31,
   "metadata": {
    "scrolled": true
   },
   "outputs": [
    {
     "data": {
      "image/png": "[encoded data removed]",
      "text/plain": [
       "<Figure size 432x288 with 1 Axes>"
      ]
     },
     "metadata": {
      "needs_background": "light"
     },
     "output_type": "display_data"
    }
   ],
   "source": [
    "# Inspect relationships for linearity (change .iloc[:,0] to inspect different columns)\n",
    "sns.scatterplot(x=model_train.iloc[:,0], y=model_train.iloc[:,-1])\n",
    "plt.show()"
   ]
  },
  {
   "cell_type": "markdown",
   "metadata": {},
   "source": [
    "None of the relationships are particarly strong when it comes to linearity, although, there don't appear to be transformations we need to apply to the data to make it take on another form to fit assumptions."
   ]
  },
  {
   "cell_type": "markdown",
   "metadata": {},
   "source": [
    "## Linear Regression using Stats Models (OLS)"
   ]
  },
  {
   "cell_type": "code",
   "execution_count": 32,
   "metadata": {},
   "outputs": [],
   "source": [
    "from patsy import dmatrices"
   ]
  },
  {
   "cell_type": "code",
   "execution_count": 33,
   "metadata": {
    "scrolled": true
   },
   "outputs": [
    {
     "data": {
      "text/plain": [
       "Index(['year', 'bpm', 'nrgy', 'dnce', 'dB', 'live', 'val', 'dur', 'acous',\n",
       "       'spch', 'pop'],\n",
       "      dtype='object')"
      ]
     },
     "execution_count": 33,
     "metadata": {},
     "output_type": "execute_result"
    }
   ],
   "source": [
    "model_train.columns"
   ]
  },
  {
   "cell_type": "code",
   "execution_count": 34,
   "metadata": {},
   "outputs": [
    {
     "name": "stderr",
     "output_type": "stream",
     "text": [
      "/Users/samlafell/opt/anaconda3/lib/python3.7/site-packages/ipykernel_launcher.py:1: SettingWithCopyWarning: \n",
      "A value is trying to be set on a copy of a slice from a DataFrame.\n",
      "Try using .loc[row_indexer,col_indexer] = value instead\n",
      "\n",
      "See the caveats in the documentation: http://pandas.pydata.org/pandas-docs/stable/user_guide/indexing.html#returning-a-view-versus-a-copy\n",
      "  \"\"\"Entry point for launching an IPython kernel.\n",
      "/Users/samlafell/opt/anaconda3/lib/python3.7/site-packages/ipykernel_launcher.py:2: SettingWithCopyWarning: \n",
      "A value is trying to be set on a copy of a slice from a DataFrame.\n",
      "Try using .loc[row_indexer,col_indexer] = value instead\n",
      "\n",
      "See the caveats in the documentation: http://pandas.pydata.org/pandas-docs/stable/user_guide/indexing.html#returning-a-view-versus-a-copy\n",
      "  \n"
     ]
    }
   ],
   "source": [
    "model_train['year'] = model_train['year'].astype(object)\n",
    "model_test['year'] = model_test['year'].astype(object)"
   ]
  },
  {
   "cell_type": "code",
   "execution_count": 35,
   "metadata": {},
   "outputs": [],
   "source": [
    "y_train, X_train = dmatrices('pop ~ year+ bpm+ nrgy+ dnce+ dB+ live+ val+ dur+ acous+ spch', data=model_train, return_type='dataframe')"
   ]
  },
  {
   "cell_type": "code",
   "execution_count": 36,
   "metadata": {},
   "outputs": [],
   "source": [
    "y_test, X_test = dmatrices('pop ~ year+ bpm+ nrgy+ dnce+ dB+ live+ val+ dur+ acous+ spch', data=model_test, return_type='dataframe')"
   ]
  },
  {
   "cell_type": "code",
   "execution_count": 37,
   "metadata": {},
   "outputs": [],
   "source": [
    "mod = sm.OLS(y_train, X_train)    # Describe model"
   ]
  },
  {
   "cell_type": "code",
   "execution_count": 38,
   "metadata": {},
   "outputs": [],
   "source": [
    "res = mod.fit()       # Fit model"
   ]
  },
  {
   "cell_type": "code",
   "execution_count": 39,
   "metadata": {
    "scrolled": false
   },
   "outputs": [
    {
     "name": "stdout",
     "output_type": "stream",
     "text": [
      "                            OLS Regression Results                            \n",
      "==============================================================================\n",
      "Dep. Variable:                    pop   R-squared:                       0.152\n",
      "Model:                            OLS   Adj. R-squared:                  0.118\n",
      "Method:                 Least Squares   F-statistic:                     4.481\n",
      "Date:                Mon, 02 Mar 2020   Prob (F-statistic):           5.20e-09\n",
      "Time:                        18:56:23   Log-Likelihood:                -1883.8\n",
      "No. Observations:                 470   AIC:                             3806.\n",
      "Df Residuals:                     451   BIC:                             3885.\n",
      "Df Model:                          18                                         \n",
      "Covariance Type:            nonrobust                                         \n",
      "================================================================================\n",
      "                   coef    std err          t      P>|t|      [0.025      0.975]\n",
      "--------------------------------------------------------------------------------\n",
      "Intercept       76.3246     10.299      7.411      0.000      56.085      96.564\n",
      "year[T.2011]    -1.6593      2.923     -0.568      0.571      -7.404       4.085\n",
      "year[T.2012]     4.4018      3.462      1.271      0.204      -2.402      11.205\n",
      "year[T.2013]     2.3591      2.909      0.811      0.418      -3.358       8.076\n",
      "year[T.2014]    -2.2660      2.907     -0.779      0.436      -7.980       3.448\n",
      "year[T.2015]    -0.1513      2.652     -0.057      0.955      -5.364       5.061\n",
      "year[T.2016]     0.2328      2.773      0.084      0.933      -5.216       5.682\n",
      "year[T.2017]     5.7121      2.904      1.967      0.050       0.005      11.420\n",
      "year[T.2018]     8.6727      2.912      2.978      0.003       2.950      14.396\n",
      "year[T.2019]    19.8087      3.566      5.555      0.000      12.801      26.816\n",
      "bpm              0.0046      0.028      0.167      0.867      -0.050       0.059\n",
      "nrgy            -0.1024      0.065     -1.584      0.114      -0.230       0.025\n",
      "dnce            -0.0130      0.060     -0.217      0.829      -0.131       0.105\n",
      "dB               0.9593      0.526      1.823      0.069      -0.075       1.993\n",
      "live            -0.0306      0.051     -0.601      0.548      -0.131       0.070\n",
      "val              0.0261      0.038      0.692      0.489      -0.048       0.100\n",
      "dur              0.0021      0.021      0.097      0.923      -0.040       0.044\n",
      "acous           -0.0108      0.039     -0.276      0.782      -0.088       0.066\n",
      "spch            -0.1203      0.092     -1.308      0.192      -0.301       0.060\n",
      "==============================================================================\n",
      "Omnibus:                      133.005   Durbin-Watson:                   0.507\n",
      "Prob(Omnibus):                  0.000   Jarque-Bera (JB):              350.803\n",
      "Skew:                          -1.386   Prob(JB):                     6.67e-77\n",
      "Kurtosis:                       6.199   Cond. No.                     4.71e+03\n",
      "==============================================================================\n",
      "\n",
      "Warnings:\n",
      "[1] Standard Errors assume that the covariance matrix of the errors is correctly specified.\n",
      "[2] The condition number is large, 4.71e+03. This might indicate that there are\n",
      "strong multicollinearity or other numerical problems.\n"
     ]
    }
   ],
   "source": [
    "print(res.summary())   # Summarize model"
   ]
  },
  {
   "cell_type": "code",
   "execution_count": 40,
   "metadata": {},
   "outputs": [],
   "source": [
    "# Parameters from the model\n",
    "#res.params\n",
    "\n",
    "# Parameters from the model\n",
    "#res.rsquared\n",
    "\n",
    "# Test for Linearity\n",
    "#print(sm.stats.linear_rainbow.__doc__)\n",
    "#print(sm.stats.linear_rainbow(res))\n",
    "#### All good ####"
   ]
  },
  {
   "cell_type": "markdown",
   "metadata": {},
   "source": [
    "## One way to assess multicollinearity is to compute the condition number. Values over 20 are worrisome (see Greene 4.9). The first step is to normalize the independent variables to have unit length:"
   ]
  },
  {
   "cell_type": "markdown",
   "metadata": {},
   "source": [
    "# Next Steps\n",
    "\n",
    " - High Condition Number is bad. Need to make sure we don't have multicollinearity.\n",
    "     - Scale data?\n",
    " - Get prediction statistics.\n",
    " - Then, Drop variable from model, refit, repredict, store R2"
   ]
  },
  {
   "cell_type": "code",
   "execution_count": 48,
   "metadata": {},
   "outputs": [],
   "source": [
    "ypred = res.predict(X_test)\n",
    "mse = np.mean(y_test.iloc[:,0] - ypred)\n",
    "rmse = np.sqrt(np.mean((y_test.iloc[:,0] - ypred)**2))"
   ]
  },
  {
   "cell_type": "code",
   "execution_count": 49,
   "metadata": {},
   "outputs": [],
   "source": [
    "drop_var = res.pvalues.sort_values(ascending=False).index[0]"
   ]
  },
  {
   "cell_type": "code",
   "execution_count": 51,
   "metadata": {},
   "outputs": [
    {
     "name": "stdout",
     "output_type": "stream",
     "text": [
      "                            OLS Regression Results                            \n",
      "==============================================================================\n",
      "Dep. Variable:                    pop   R-squared:                       0.152\n",
      "Model:                            OLS   Adj. R-squared:                  0.118\n",
      "Method:                 Least Squares   F-statistic:                     4.481\n",
      "Date:                Mon, 02 Mar 2020   Prob (F-statistic):           5.20e-09\n",
      "Time:                        18:58:11   Log-Likelihood:                -1883.8\n",
      "No. Observations:                 470   AIC:                             3806.\n",
      "Df Residuals:                     451   BIC:                             3885.\n",
      "Df Model:                          18                                         \n",
      "Covariance Type:            nonrobust                                         \n",
      "================================================================================\n",
      "                   coef    std err          t      P>|t|      [0.025      0.975]\n",
      "--------------------------------------------------------------------------------\n",
      "Intercept       76.3246     10.299      7.411      0.000      56.085      96.564\n",
      "year[T.2011]    -1.6593      2.923     -0.568      0.571      -7.404       4.085\n",
      "year[T.2012]     4.4018      3.462      1.271      0.204      -2.402      11.205\n",
      "year[T.2013]     2.3591      2.909      0.811      0.418      -3.358       8.076\n",
      "year[T.2014]    -2.2660      2.907     -0.779      0.436      -7.980       3.448\n",
      "year[T.2015]    -0.1513      2.652     -0.057      0.955      -5.364       5.061\n",
      "year[T.2016]     0.2328      2.773      0.084      0.933      -5.216       5.682\n",
      "year[T.2017]     5.7121      2.904      1.967      0.050       0.005      11.420\n",
      "year[T.2018]     8.6727      2.912      2.978      0.003       2.950      14.396\n",
      "year[T.2019]    19.8087      3.566      5.555      0.000      12.801      26.816\n",
      "bpm              0.0046      0.028      0.167      0.867      -0.050       0.059\n",
      "nrgy            -0.1024      0.065     -1.584      0.114      -0.230       0.025\n",
      "dnce            -0.0130      0.060     -0.217      0.829      -0.131       0.105\n",
      "dB               0.9593      0.526      1.823      0.069      -0.075       1.993\n",
      "live            -0.0306      0.051     -0.601      0.548      -0.131       0.070\n",
      "val              0.0261      0.038      0.692      0.489      -0.048       0.100\n",
      "dur              0.0021      0.021      0.097      0.923      -0.040       0.044\n",
      "acous           -0.0108      0.039     -0.276      0.782      -0.088       0.066\n",
      "spch            -0.1203      0.092     -1.308      0.192      -0.301       0.060\n",
      "==============================================================================\n",
      "Omnibus:                      133.005   Durbin-Watson:                   0.507\n",
      "Prob(Omnibus):                  0.000   Jarque-Bera (JB):              350.803\n",
      "Skew:                          -1.386   Prob(JB):                     6.67e-77\n",
      "Kurtosis:                       6.199   Cond. No.                     4.71e+03\n",
      "==============================================================================\n",
      "\n",
      "Warnings:\n",
      "[1] Standard Errors assume that the covariance matrix of the errors is correctly specified.\n",
      "[2] The condition number is large, 4.71e+03. This might indicate that there are\n",
      "strong multicollinearity or other numerical problems.\n",
      "170.5315643773236 13.05877346374167\n"
     ]
    }
   ],
   "source": [
    "#X = X.drop(drop_var, axis=1)\n",
    "mod = sm.OLS(y_train, X_train)    # Describe model\n",
    "res = mod.fit()       # Fit model\n",
    "print(res.summary())   # Summarize model\n",
    "ypred = res.predict(X_test)\n",
    "mse = np.mean((y_test.iloc[:,0] - ypred)**2)\n",
    "rmse = np.sqrt(np.mean((y_test.iloc[:,0] - ypred)**2))\n",
    "print(mse, rmse)"
   ]
  },
  {
   "cell_type": "code",
   "execution_count": null,
   "metadata": {},
   "outputs": [],
   "source": []
  },
  {
   "cell_type": "code",
   "execution_count": 85,
   "metadata": {},
   "outputs": [],
   "source": [
    "import statsmodels.api as sm\n",
    "def backwardElimination(train_df, test_df, sl):\n",
    "    '''\n",
    "    :param feature_cols: A numeric list of columns for features\n",
    "    :param target_col: A single column for the target\n",
    "    :param train_df: The training dataframe\n",
    "    :param test_df: The test dataframe\n",
    "    :param sl: Significance Level\n",
    "    '''\n",
    "\n",
    "    y_train, X_train = dmatrices('pop ~ year+ bpm+ nrgy+ dnce+ dB+ live+ val+ dur+ acous+ spch', data=model_train, return_type='dataframe')\n",
    "    y_test, X_test = dmatrices('pop ~ year+ bpm+ nrgy+ dnce+ dB+ live+ val+ dur+ acous+ spch', data=model_test, return_type='dataframe')\n",
    "    \n",
    "    \n",
    "    # Parts of function outside of any loop\n",
    "    rmse_list = []\n",
    "    mse_list = []\n",
    "    numvar_list = []\n",
    "    mae_list = []\n",
    "    numVars = len(df.columns)\n",
    "    \n",
    "    for i in range(0, numVars):\n",
    "        # How many vars in this model?\n",
    "        numVar = len(X_train.columns)\n",
    "        numvar_list.append(numVar)\n",
    "    \n",
    "        # Fit the model\n",
    "        regressor_OLS = sm.OLS(y_train, X_train).fit()\n",
    "        \n",
    "        # What is the highest p-Value?\n",
    "        maxVar = regressor_OLS.pvalues.sort_values(ascending=False)[0]\n",
    "        \n",
    "        # Get predictions with the current model\n",
    "        ypred = regressor_OLS.predict(X_test)\n",
    "        \n",
    "        # MAE?\n",
    "        mae_list.append(np.mean(abs(y_test.iloc[:,0] - ypred)))\n",
    "\n",
    "        # What is the MSE of the current model\n",
    "        mse_list.append(np.mean((y_test.iloc[:,0] - ypred)**2))\n",
    "        \n",
    "        # What is the RMSE of the current model\n",
    "        rmse_list.append(np.sqrt(np.mean((y_test.iloc[:,0] - ypred)**2)))\n",
    "        \n",
    "        # If the Max p-Val is larger than our significance level, drop it from the competition\n",
    "        if maxVar > sl:\n",
    "            X_train = X_train.drop(regressor_OLS.pvalues.sort_values(ascending=False).index[0], axis=1)\n",
    "            X_test = X_test.drop(regressor_OLS.pvalues.sort_values(ascending=False).index[0], axis=1)\n",
    "            \n",
    "    list_all = [numvar_list, rmse_list, mse_list, mae_list]\n",
    "    \n",
    "    print(regressor_OLS.summary())\n",
    "    return list_all"
   ]
  },
  {
   "cell_type": "code",
   "execution_count": 86,
   "metadata": {},
   "outputs": [
    {
     "name": "stdout",
     "output_type": "stream",
     "text": [
      "                            OLS Regression Results                            \n",
      "==============================================================================\n",
      "Dep. Variable:                    pop   R-squared:                       0.133\n",
      "Model:                            OLS   Adj. R-squared:                  0.124\n",
      "Method:                 Least Squares   F-statistic:                     14.28\n",
      "Date:                Mon, 02 Mar 2020   Prob (F-statistic):           5.13e-13\n",
      "Time:                        19:11:59   Log-Likelihood:                -1888.8\n",
      "No. Observations:                 470   AIC:                             3790.\n",
      "Df Residuals:                     464   BIC:                             3815.\n",
      "Df Model:                           5                                         \n",
      "Covariance Type:            nonrobust                                         \n",
      "================================================================================\n",
      "                   coef    std err          t      P>|t|      [0.025      0.975]\n",
      "--------------------------------------------------------------------------------\n",
      "Intercept       65.8144      2.164     30.418      0.000      61.563      70.066\n",
      "year[T.2012]     5.0783      2.817      1.803      0.072      -0.458      10.614\n",
      "year[T.2017]     5.9266      2.080      2.850      0.005       1.840      10.013\n",
      "year[T.2018]     9.2083      2.013      4.573      0.000       5.252      13.165\n",
      "year[T.2019]    20.4291      2.816      7.255      0.000      14.896      25.962\n",
      "dB               0.4513      0.373      1.209      0.227      -0.282       1.185\n",
      "==============================================================================\n",
      "Omnibus:                      136.324   Durbin-Watson:                   0.499\n",
      "Prob(Omnibus):                  0.000   Jarque-Bera (JB):              368.502\n",
      "Skew:                          -1.410   Prob(JB):                     9.57e-81\n",
      "Kurtosis:                       6.296   Cond. No.                         27.9\n",
      "==============================================================================\n",
      "\n",
      "Warnings:\n",
      "[1] Standard Errors assume that the covariance matrix of the errors is correctly specified.\n"
     ]
    }
   ],
   "source": [
    "iter_info = backwardElimination(train_df = model_train, test_df = model_test, sl = .01)"
   ]
  },
  {
   "cell_type": "code",
   "execution_count": 87,
   "metadata": {},
   "outputs": [
    {
     "data": {
      "text/plain": [
       "Text(0.5, 0, 'Number of Variables')"
      ]
     },
     "execution_count": 87,
     "metadata": {},
     "output_type": "execute_result"
    },
    {
     "data": {
      "image/png": "[encoded data removed]",
      "text/plain": [
       "<Figure size 432x288 with 1 Axes>"
      ]
     },
     "metadata": {
      "needs_background": "light"
     },
     "output_type": "display_data"
    }
   ],
   "source": [
    "# Plot the RMSE Results\n",
    "sns.lineplot(x=iter_info[0], y=iter_info[1])\n",
    "plt.xlim(5, 20)\n",
    "plt.title(\"RMSE Across Number of Variables\") #Add plot title\n",
    "plt.ylabel(\"RMSE\") #Adjust the label of the y-axis\n",
    "plt.xlabel(\"Number of Variables\") #adjust x axis"
   ]
  },
  {
   "cell_type": "code",
   "execution_count": 88,
   "metadata": {},
   "outputs": [
    {
     "data": {
      "text/plain": [
       "Text(0.5, 0, 'Number of Variables')"
      ]
     },
     "execution_count": 88,
     "metadata": {},
     "output_type": "execute_result"
    },
    {
     "data": {
      "image/png": "[encoded data removed]",
      "text/plain": [
       "<Figure size 432x288 with 1 Axes>"
      ]
     },
     "metadata": {
      "needs_background": "light"
     },
     "output_type": "display_data"
    }
   ],
   "source": [
    "# Plot the MSE Results\n",
    "sns.lineplot(x=iter_info[0], y=iter_info[2])\n",
    "plt.xlim(5, 20)\n",
    "plt.title(\"MSE Across Number of Variables\") #Add plot title\n",
    "plt.ylabel(\"MSE\") #Adjust the label of the y-axis\n",
    "plt.xlabel(\"Number of Variables\") #adjust x axis"
   ]
  },
  {
   "cell_type": "code",
   "execution_count": 89,
   "metadata": {},
   "outputs": [
    {
     "data": {
      "text/plain": [
       "Text(0.5, 0, 'Number of Variables')"
      ]
     },
     "execution_count": 89,
     "metadata": {},
     "output_type": "execute_result"
    },
    {
     "data": {
      "image/png": "[encoded data removed]",
      "text/plain": [
       "<Figure size 432x288 with 1 Axes>"
      ]
     },
     "metadata": {
      "needs_background": "light"
     },
     "output_type": "display_data"
    }
   ],
   "source": [
    "# Plot the MAE Results\n",
    "sns.lineplot(x=iter_info[0], y=iter_info[3])\n",
    "plt.xlim(5, 20)\n",
    "plt.title(\"MAE Across Number of Variables\") #Add plot title\n",
    "plt.ylabel(\"MAE\") #Adjust the label of the y-axis\n",
    "plt.xlabel(\"Number of Variables\") #adjust x axis"
   ]
  },
  {
   "cell_type": "markdown",
   "metadata": {},
   "source": [
    "## That's it for this part of the notebook. We will try to build this analysis into a better look as to why our model isn't predicting as well as we would expect."
   ]
  },
  {
   "cell_type": "markdown",
   "metadata": {},
   "source": [
    "- R2 of 13.3% on Multiple Logistic Regression using Backward Selection at a Significance Level of .03 (sample size of ~400 for training and ~100 for test makes sense)"
   ]
  },
  {
   "cell_type": "markdown",
   "metadata": {},
   "source": [
    "- Only a few levels of year and dB are showing as significant at this level. Can we explore some clustering techniques?\n",
    "\n",
    "- Let's move into a notebook to explore clustering."
   ]
  },
  {
   "cell_type": "code",
   "execution_count": null,
   "metadata": {},
   "outputs": [],
   "source": []
  },
  {
   "cell_type": "code",
   "execution_count": null,
   "metadata": {},
   "outputs": [],
   "source": []
  },
  {
   "cell_type": "code",
   "execution_count": null,
   "metadata": {},
   "outputs": [],
   "source": []
  },
  {
   "cell_type": "code",
   "execution_count": null,
   "metadata": {},
   "outputs": [],
   "source": []
  },
  {
   "cell_type": "code",
   "execution_count": null,
   "metadata": {},
   "outputs": [],
   "source": []
  },
  {
   "cell_type": "markdown",
   "metadata": {},
   "source": [
    "## Extra Code"
   ]
  },
  {
   "cell_type": "code",
   "execution_count": null,
   "metadata": {},
   "outputs": [],
   "source": [
    "# Might need this..\n",
    "\n",
    "# Feature Scaling\n",
    "\"\"\"from sklearn.preprocessing import StandardScaler\n",
    "sc_X = StandardScaler()\n",
    "X_train = sc_X.fit_transform(X_train)\n",
    "X_test = sc_X.transform(X_test)\n",
    "sc_y = StandardScaler()\n",
    "y_train = sc_y.fit_transform(y_train)\"\"\""
   ]
  },
  {
   "cell_type": "code",
   "execution_count": 45,
   "metadata": {},
   "outputs": [
    {
     "ename": "ValueError",
     "evalue": "Length mismatch: Expected axis has 13 elements, new values have 10 elements",
     "output_type": "error",
     "traceback": [
      "\u001b[0;31m---------------------------------------------------------------------------\u001b[0m",
      "\u001b[0;31mValueError\u001b[0m                                Traceback (most recent call last)",
      "\u001b[0;32m<ipython-input-45-cdfa2b3d4f1a>\u001b[0m in \u001b[0;36m<module>\u001b[0;34m\u001b[0m\n\u001b[1;32m      1\u001b[0m \u001b[0;31m# Did it work?\u001b[0m\u001b[0;34m\u001b[0m\u001b[0;34m\u001b[0m\u001b[0;34m\u001b[0m\u001b[0m\n\u001b[0;32m----> 2\u001b[0;31m \u001b[0mX_train_imputed\u001b[0m\u001b[0;34m.\u001b[0m\u001b[0mcolumns\u001b[0m \u001b[0;34m=\u001b[0m \u001b[0mX_train\u001b[0m\u001b[0;34m.\u001b[0m\u001b[0miloc\u001b[0m\u001b[0;34m[\u001b[0m\u001b[0;34m:\u001b[0m\u001b[0;34m,\u001b[0m \u001b[0;36m3\u001b[0m\u001b[0;34m:\u001b[0m\u001b[0;34m]\u001b[0m\u001b[0;34m.\u001b[0m\u001b[0mcolumns\u001b[0m\u001b[0;34m\u001b[0m\u001b[0;34m\u001b[0m\u001b[0m\n\u001b[0m\u001b[1;32m      3\u001b[0m \u001b[0;31m# YES\u001b[0m\u001b[0;34m\u001b[0m\u001b[0;34m\u001b[0m\u001b[0;34m\u001b[0m\u001b[0m\n\u001b[1;32m      4\u001b[0m \u001b[0mX_train\u001b[0m\u001b[0;34m.\u001b[0m\u001b[0miloc\u001b[0m\u001b[0;34m[\u001b[0m\u001b[0;34m:\u001b[0m\u001b[0;34m,\u001b[0m \u001b[0;34m:\u001b[0m\u001b[0;36m4\u001b[0m\u001b[0;34m]\u001b[0m\u001b[0;34m.\u001b[0m\u001b[0mappend\u001b[0m\u001b[0;34m(\u001b[0m\u001b[0mX_train_imputed\u001b[0m\u001b[0;34m)\u001b[0m\u001b[0;34m\u001b[0m\u001b[0;34m\u001b[0m\u001b[0m\n",
      "\u001b[0;32m~/anaconda3/lib/python3.7/site-packages/pandas/core/generic.py\u001b[0m in \u001b[0;36m__setattr__\u001b[0;34m(self, name, value)\u001b[0m\n\u001b[1;32m   5078\u001b[0m         \u001b[0;32mtry\u001b[0m\u001b[0;34m:\u001b[0m\u001b[0;34m\u001b[0m\u001b[0;34m\u001b[0m\u001b[0m\n\u001b[1;32m   5079\u001b[0m             \u001b[0mobject\u001b[0m\u001b[0;34m.\u001b[0m\u001b[0m__getattribute__\u001b[0m\u001b[0;34m(\u001b[0m\u001b[0mself\u001b[0m\u001b[0;34m,\u001b[0m \u001b[0mname\u001b[0m\u001b[0;34m)\u001b[0m\u001b[0;34m\u001b[0m\u001b[0;34m\u001b[0m\u001b[0m\n\u001b[0;32m-> 5080\u001b[0;31m             \u001b[0;32mreturn\u001b[0m \u001b[0mobject\u001b[0m\u001b[0;34m.\u001b[0m\u001b[0m__setattr__\u001b[0m\u001b[0;34m(\u001b[0m\u001b[0mself\u001b[0m\u001b[0;34m,\u001b[0m \u001b[0mname\u001b[0m\u001b[0;34m,\u001b[0m \u001b[0mvalue\u001b[0m\u001b[0;34m)\u001b[0m\u001b[0;34m\u001b[0m\u001b[0;34m\u001b[0m\u001b[0m\n\u001b[0m\u001b[1;32m   5081\u001b[0m         \u001b[0;32mexcept\u001b[0m \u001b[0mAttributeError\u001b[0m\u001b[0;34m:\u001b[0m\u001b[0;34m\u001b[0m\u001b[0;34m\u001b[0m\u001b[0m\n\u001b[1;32m   5082\u001b[0m             \u001b[0;32mpass\u001b[0m\u001b[0;34m\u001b[0m\u001b[0;34m\u001b[0m\u001b[0m\n",
      "\u001b[0;32mpandas/_libs/properties.pyx\u001b[0m in \u001b[0;36mpandas._libs.properties.AxisProperty.__set__\u001b[0;34m()\u001b[0m\n",
      "\u001b[0;32m~/anaconda3/lib/python3.7/site-packages/pandas/core/generic.py\u001b[0m in \u001b[0;36m_set_axis\u001b[0;34m(self, axis, labels)\u001b[0m\n\u001b[1;32m    636\u001b[0m \u001b[0;34m\u001b[0m\u001b[0m\n\u001b[1;32m    637\u001b[0m     \u001b[0;32mdef\u001b[0m \u001b[0m_set_axis\u001b[0m\u001b[0;34m(\u001b[0m\u001b[0mself\u001b[0m\u001b[0;34m,\u001b[0m \u001b[0maxis\u001b[0m\u001b[0;34m,\u001b[0m \u001b[0mlabels\u001b[0m\u001b[0;34m)\u001b[0m\u001b[0;34m:\u001b[0m\u001b[0;34m\u001b[0m\u001b[0;34m\u001b[0m\u001b[0m\n\u001b[0;32m--> 638\u001b[0;31m         \u001b[0mself\u001b[0m\u001b[0;34m.\u001b[0m\u001b[0m_data\u001b[0m\u001b[0;34m.\u001b[0m\u001b[0mset_axis\u001b[0m\u001b[0;34m(\u001b[0m\u001b[0maxis\u001b[0m\u001b[0;34m,\u001b[0m \u001b[0mlabels\u001b[0m\u001b[0;34m)\u001b[0m\u001b[0;34m\u001b[0m\u001b[0;34m\u001b[0m\u001b[0m\n\u001b[0m\u001b[1;32m    639\u001b[0m         \u001b[0mself\u001b[0m\u001b[0;34m.\u001b[0m\u001b[0m_clear_item_cache\u001b[0m\u001b[0;34m(\u001b[0m\u001b[0;34m)\u001b[0m\u001b[0;34m\u001b[0m\u001b[0;34m\u001b[0m\u001b[0m\n\u001b[1;32m    640\u001b[0m \u001b[0;34m\u001b[0m\u001b[0m\n",
      "\u001b[0;32m~/anaconda3/lib/python3.7/site-packages/pandas/core/internals/managers.py\u001b[0m in \u001b[0;36mset_axis\u001b[0;34m(self, axis, new_labels)\u001b[0m\n\u001b[1;32m    153\u001b[0m             raise ValueError(\n\u001b[1;32m    154\u001b[0m                 \u001b[0;34m'Length mismatch: Expected axis has {old} elements, new '\u001b[0m\u001b[0;34m\u001b[0m\u001b[0;34m\u001b[0m\u001b[0m\n\u001b[0;32m--> 155\u001b[0;31m                 'values have {new} elements'.format(old=old_len, new=new_len))\n\u001b[0m\u001b[1;32m    156\u001b[0m \u001b[0;34m\u001b[0m\u001b[0m\n\u001b[1;32m    157\u001b[0m         \u001b[0mself\u001b[0m\u001b[0;34m.\u001b[0m\u001b[0maxes\u001b[0m\u001b[0;34m[\u001b[0m\u001b[0maxis\u001b[0m\u001b[0;34m]\u001b[0m \u001b[0;34m=\u001b[0m \u001b[0mnew_labels\u001b[0m\u001b[0;34m\u001b[0m\u001b[0;34m\u001b[0m\u001b[0m\n",
      "\u001b[0;31mValueError\u001b[0m: Length mismatch: Expected axis has 13 elements, new values have 10 elements"
     ]
    }
   ],
   "source": [
    "# Did it work?\n",
    "X_train_imputed.columns = X_train.iloc[:, 3:].columns\n",
    "# YES\n",
    "\n",
    "X_train.iloc[:, :4].append(X_train_imputed)"
   ]
  },
  {
   "cell_type": "markdown",
   "metadata": {},
   "source": [
    "In some brief data exploration, various data sets have had the Title/Artist/Genre columns with some weird characters. We want to just check over these three columns to see if they have any weird characters.\n",
    "\n",
    "I'm defining that by being letters with accents (é, á, ó, ú, ë, ö, etc...), or maybe errors in the decoding process."
   ]
  },
  {
   "cell_type": "code",
   "execution_count": 146,
   "metadata": {},
   "outputs": [
    {
     "data": {
      "text/plain": [
       "The Hills                                          2\n",
       "I Like It                                          2\n",
       "Kissing Strangers                                  2\n",
       "We Are Never Ever Getting Back Together            2\n",
       "Company                                            2\n",
       "Hello                                              2\n",
       "Sugar                                              2\n",
       "First Time                                         2\n",
       "Marry You                                          2\n",
       "Castle Walls (feat. Christina Aguilera)            2\n",
       "Stitches                                           2\n",
       "Written in the Stars (feat. Eric Turner)           2\n",
       "A Little Party Never Killed Nobody (All We Got)    2\n",
       "Say Something                                      2\n",
       "Here                                               2\n",
       "Love Yourself                                      2\n",
       "All I Ask                                          2\n",
       "Just the Way You Are                               2\n",
       "Runnin' (Lose It All)                              2\n",
       "Meet Me Halfway                                    1\n",
       "Roar                                               1\n",
       "People Like Us                                     1\n",
       "All of Me                                          1\n",
       "Roses                                              1\n",
       "Wiggle (feat. Snoop Dogg)                          1\n",
       "Kill Em With Kindness                              1\n",
       "Take Back the Night                                1\n",
       "It's On Again - Main Soundtrack                    1\n",
       "Last Friday Night (T.G.I.F.)                       1\n",
       "Cruel (feat. ZAYN)                                 1\n",
       "                                                  ..\n",
       "Clarity                                            1\n",
       "Story of My Life                                   1\n",
       "Dark Horse                                         1\n",
       "Focus                                              1\n",
       "Electricity (with Dua Lipa)                        1\n",
       "Send My Love (To Your New Lover)                   1\n",
       "S&M Remix                                          1\n",
       "Daylight                                           1\n",
       "Make Me Like You                                   1\n",
       "Kills You Slowly                                   1\n",
       "Never Be the Same - Radio Edit                     1\n",
       "Ghosttown                                          1\n",
       "Final Song                                         1\n",
       "XO                                                 1\n",
       "Anything Could Happen                              1\n",
       "Mercy                                              1\n",
       "Whataya Want from Me                               1\n",
       "Stereo Hearts (feat. Adam Levine)                  1\n",
       "Talk Dirty (feat. 2 Chainz)                        1\n",
       "Fireball (feat. John Ryan)                         1\n",
       "Run the World (Girls)                              1\n",
       "True Colors                                        1\n",
       "Let Me Love You                                    1\n",
       "Start                                              1\n",
       "Thinking out Loud                                  1\n",
       "You're Mine (Eternal)                              1\n",
       "Where Have You Been                                1\n",
       "Under Control                                      1\n",
       "New Rules                                          1\n",
       "Tonight Tonight                                    1\n",
       "Name: title, Length: 583, dtype: int64"
      ]
     },
     "execution_count": 146,
     "metadata": {},
     "output_type": "execute_result"
    }
   ],
   "source": [
    "# Use the string library to define a list of valid letters.\n",
    "import string\n",
    "alphabet = string.ascii_letters+string.punctuation\n",
    "\n",
    "# What are our valid characters?\n",
    "alphabet\n",
    "\n",
    "# Do our columns have invalid entries?\n",
    "# Col 1\n",
    "df.title.str.strip(alphabet).astype(bool).any()\n",
    "\n",
    "# Col 2\n",
    "df.artist.str.strip(alphabet).astype(bool).any()\n",
    "\n",
    "# Col 3\n",
    "df.top_genre.str.strip(alphabet).astype(bool).any()\n",
    "\n",
    "df.title.value_counts()"
   ]
  },
  {
   "cell_type": "markdown",
   "metadata": {},
   "source": [
    "Oh what fun. Yes, all three columns have characters we wouldn't necessarily recognize. I will shelf this part of the analysis for later. There may be more important statistical tests to run first.\n"
   ]
  },
  {
   "cell_type": "code",
   "execution_count": null,
   "metadata": {},
   "outputs": [],
   "source": []
  }
 ],
 "metadata": {
  "kernelspec": {
   "display_name": "Python 3",
   "language": "python",
   "name": "python3"
  },
  "language_info": {
   "codemirror_mode": {
    "name": "ipython",
    "version": 3
   },
   "file_extension": ".py",
   "mimetype": "text/x-python",
   "name": "python",
   "nbconvert_exporter": "python",
   "pygments_lexer": "ipython3",
   "version": "3.8.3"
  },
  "varInspector": {
   "cols": {
    "lenName": 16,
    "lenType": 16,
    "lenVar": 40
   },
   "kernels_config": {
    "python": {
     "delete_cmd_postfix": "",
     "delete_cmd_prefix": "del ",
     "library": "var_list.py",
     "varRefreshCmd": "print(var_dic_list())"
    },
    "r": {
     "delete_cmd_postfix": ") ",
     "delete_cmd_prefix": "rm(",
     "library": "var_list.r",
     "varRefreshCmd": "cat(var_dic_list()) "
    }
   },
   "types_to_exclude": [
    "module",
    "function",
    "builtin_function_or_method",
    "instance",
    "_Feature"
   ],
   "window_display": false
  }
 },
 "nbformat": 4,
 "nbformat_minor": 2
}
