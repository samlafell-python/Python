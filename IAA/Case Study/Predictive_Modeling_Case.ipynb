{
 "cells": [
  {
   "cell_type": "markdown",
   "metadata": {},
   "source": [
    "# Case Study: Predictive Modeling"
   ]
  },
  {
   "cell_type": "markdown",
   "metadata": {},
   "source": [
    "1) Use the attached ‘PredictiveModelingAssessmentData.csv’ to develop a model, predicting response y from inputs x1 and x2. Assume the file contains no data errors. Your only goal is to minimize the prediction error measured by RMSE. Once your final model is trained, please generate predictions for ‘TestData.csv’. Your predictions on the test set will be scored for accuracy. Save and return predictions on the test set as ‘TestDataPredictions.csv’. Please share your code. Assume even minor improvements in accuracy can provide a significant competitive advantage. Hint: the irreducible error measured by RMSE is known to be 1."
   ]
  },
  {
   "cell_type": "markdown",
   "metadata": {},
   "source": [
    "## Initial Thoughts...\n",
    "1. Need to input dataset to get a look\n",
    "2. Need formula for RMSE to code it // package?\n",
    "3. Have 3 Datasets... Train-Validation-Test\n",
    "    - Test Out-Of-Sample performance on Validation, minimize RMSE\n",
    "    - Use final model to make predictions on Test, scored using accuracy\n",
    "        - Extrapolation concerns\n",
    "4. Metrics: RMSE and Accuracy"
   ]
  },
  {
   "cell_type": "code",
   "execution_count": 3,
   "metadata": {},
   "outputs": [],
   "source": [
    "import pandas as pd"
   ]
  },
  {
   "cell_type": "code",
   "execution_count": 4,
   "metadata": {},
   "outputs": [],
   "source": [
    "df = pd.read_csv('PredictiveModelingAssessmentData.csv')"
   ]
  },
  {
   "cell_type": "code",
   "execution_count": 6,
   "metadata": {},
   "outputs": [
    {
     "data": {
      "text/html": [
       "<div>\n",
       "<style scoped>\n",
       "    .dataframe tbody tr th:only-of-type {\n",
       "        vertical-align: middle;\n",
       "    }\n",
       "\n",
       "    .dataframe tbody tr th {\n",
       "        vertical-align: top;\n",
       "    }\n",
       "\n",
       "    .dataframe thead th {\n",
       "        text-align: right;\n",
       "    }\n",
       "</style>\n",
       "<table border=\"1\" class=\"dataframe\">\n",
       "  <thead>\n",
       "    <tr style=\"text-align: right;\">\n",
       "      <th></th>\n",
       "      <th>y</th>\n",
       "      <th>x1</th>\n",
       "      <th>x2</th>\n",
       "    </tr>\n",
       "  </thead>\n",
       "  <tbody>\n",
       "    <tr>\n",
       "      <th>0</th>\n",
       "      <td>1.300215</td>\n",
       "      <td>-0.054425</td>\n",
       "      <td>0.738897</td>\n",
       "    </tr>\n",
       "    <tr>\n",
       "      <th>1</th>\n",
       "      <td>-0.805025</td>\n",
       "      <td>0.130174</td>\n",
       "      <td>0.977855</td>\n",
       "    </tr>\n",
       "    <tr>\n",
       "      <th>2</th>\n",
       "      <td>2.801926</td>\n",
       "      <td>1.749007</td>\n",
       "      <td>1.352562</td>\n",
       "    </tr>\n",
       "    <tr>\n",
       "      <th>3</th>\n",
       "      <td>3.123490</td>\n",
       "      <td>-0.979458</td>\n",
       "      <td>1.664484</td>\n",
       "    </tr>\n",
       "    <tr>\n",
       "      <th>4</th>\n",
       "      <td>3.445728</td>\n",
       "      <td>0.300521</td>\n",
       "      <td>2.988848</td>\n",
       "    </tr>\n",
       "  </tbody>\n",
       "</table>\n",
       "</div>"
      ],
      "text/plain": [
       "          y        x1        x2\n",
       "0  1.300215 -0.054425  0.738897\n",
       "1 -0.805025  0.130174  0.977855\n",
       "2  2.801926  1.749007  1.352562\n",
       "3  3.123490 -0.979458  1.664484\n",
       "4  3.445728  0.300521  2.988848"
      ]
     },
     "execution_count": 6,
     "metadata": {},
     "output_type": "execute_result"
    }
   ],
   "source": [
    "df.head()"
   ]
  },
  {
   "cell_type": "markdown",
   "metadata": {},
   "source": [
    "## Data is structured to be modeled.\n",
    "\n",
    "Continuous target with continuous predictors...\n",
    "- Multiple Regression\n",
    "    - Check for collinearity between x1/x2 (VIF)\n",
    "        - If so, explore Ridge/Lasso/Elastic Net\n",
    "\n",
    "- Decision Tree/Random Forest\n",
    "\n",
    "- Neural Net\n",
    "\n",
    "- XGBoost"
   ]
  },
  {
   "cell_type": "markdown",
   "metadata": {},
   "source": [
    "## Assumption Validation for Modeling\n",
    "- normality\n",
    "- no collinearity\n",
    "- independence (will have to be assumed here)\n",
    "- linear relationship (with only two variables we can transform pretty easily)"
   ]
  },
  {
   "cell_type": "code",
   "execution_count": 7,
   "metadata": {},
   "outputs": [
    {
     "data": {
      "text/plain": [
       "y     2.216492\n",
       "x1    1.117614\n",
       "x2    2.098296\n",
       "dtype: float64"
      ]
     },
     "execution_count": 7,
     "metadata": {},
     "output_type": "execute_result"
    }
   ],
   "source": [
    "# collinearity -- VIF\n",
    "from statsmodels.stats.outliers_influence import variance_inflation_factor\n",
    "\n",
    "# Calculate VIF\n",
    "pd.Series([variance_inflation_factor(df.values, i) \n",
    "               for i in range(df.shape[1])], \n",
    "             index=df.columns)\n",
    "\n",
    "# All good on VIF"
   ]
  },
  {
   "cell_type": "code",
   "execution_count": 8,
   "metadata": {},
   "outputs": [
    {
     "data": {
      "text/plain": [
       "<Figure size 640x480 with 1 Axes>"
      ]
     },
     "metadata": {},
     "output_type": "display_data"
    }
   ],
   "source": [
    "# Inspect relationships\n",
    "import seaborn as sns\n",
    "import matplotlib.pyplot as plt\n",
    "sns.scatterplot(x=df.iloc[:,1], y=df.iloc[:,0])\n",
    "plt.show()\n",
    "#sns.scatterplot(x=df.iloc[:,2], y=df.iloc[:,0])"
   ]
  },
  {
   "cell_type": "markdown",
   "metadata": {},
   "source": [
    "We don't validate collinearity. Let's run a model and see what we're looking at.\n",
    "\n",
    "x1 to y is a Quadratic Relationship\n",
    "x2 to y is a log relationship"
   ]
  },
  {
   "cell_type": "code",
   "execution_count": 9,
   "metadata": {},
   "outputs": [],
   "source": [
    "#sns.scatterplot(x=(df.iloc[:,1]**2), y=df.iloc[:,0])\n",
    "#sns.scatterplot(x=np.log(df.iloc[:,2]), y=df.iloc[:,0])"
   ]
  },
  {
   "cell_type": "code",
   "execution_count": 10,
   "metadata": {},
   "outputs": [],
   "source": [
    "#df.iloc[:,1] = (df.iloc[:,1]**2)\n",
    "df['x1_quad'] = (df.iloc[:,1]**2)\n",
    "df['x2_log'] = np.log(df.iloc[:,2])"
   ]
  },
  {
   "cell_type": "code",
   "execution_count": 11,
   "metadata": {
    "scrolled": true
   },
   "outputs": [
    {
     "data": {
      "text/html": [
       "<div>\n",
       "<style scoped>\n",
       "    .dataframe tbody tr th:only-of-type {\n",
       "        vertical-align: middle;\n",
       "    }\n",
       "\n",
       "    .dataframe tbody tr th {\n",
       "        vertical-align: top;\n",
       "    }\n",
       "\n",
       "    .dataframe thead th {\n",
       "        text-align: right;\n",
       "    }\n",
       "</style>\n",
       "<table border=\"1\" class=\"dataframe\">\n",
       "  <thead>\n",
       "    <tr style=\"text-align: right;\">\n",
       "      <th></th>\n",
       "      <th>y</th>\n",
       "      <th>x1</th>\n",
       "      <th>x2</th>\n",
       "      <th>x1_quad</th>\n",
       "      <th>x2_log</th>\n",
       "    </tr>\n",
       "  </thead>\n",
       "  <tbody>\n",
       "    <tr>\n",
       "      <th>0</th>\n",
       "      <td>1.300215</td>\n",
       "      <td>-0.054425</td>\n",
       "      <td>0.738897</td>\n",
       "      <td>0.002962</td>\n",
       "      <td>-0.302597</td>\n",
       "    </tr>\n",
       "    <tr>\n",
       "      <th>1</th>\n",
       "      <td>-0.805025</td>\n",
       "      <td>0.130174</td>\n",
       "      <td>0.977855</td>\n",
       "      <td>0.016945</td>\n",
       "      <td>-0.022394</td>\n",
       "    </tr>\n",
       "    <tr>\n",
       "      <th>2</th>\n",
       "      <td>2.801926</td>\n",
       "      <td>1.749007</td>\n",
       "      <td>1.352562</td>\n",
       "      <td>3.059024</td>\n",
       "      <td>0.302000</td>\n",
       "    </tr>\n",
       "    <tr>\n",
       "      <th>3</th>\n",
       "      <td>3.123490</td>\n",
       "      <td>-0.979458</td>\n",
       "      <td>1.664484</td>\n",
       "      <td>0.959338</td>\n",
       "      <td>0.509515</td>\n",
       "    </tr>\n",
       "    <tr>\n",
       "      <th>4</th>\n",
       "      <td>3.445728</td>\n",
       "      <td>0.300521</td>\n",
       "      <td>2.988848</td>\n",
       "      <td>0.090313</td>\n",
       "      <td>1.094888</td>\n",
       "    </tr>\n",
       "  </tbody>\n",
       "</table>\n",
       "</div>"
      ],
      "text/plain": [
       "          y        x1        x2   x1_quad    x2_log\n",
       "0  1.300215 -0.054425  0.738897  0.002962 -0.302597\n",
       "1 -0.805025  0.130174  0.977855  0.016945 -0.022394\n",
       "2  2.801926  1.749007  1.352562  3.059024  0.302000\n",
       "3  3.123490 -0.979458  1.664484  0.959338  0.509515\n",
       "4  3.445728  0.300521  2.988848  0.090313  1.094888"
      ]
     },
     "execution_count": 11,
     "metadata": {},
     "output_type": "execute_result"
    }
   ],
   "source": [
    "df.head()"
   ]
  },
  {
   "cell_type": "markdown",
   "metadata": {},
   "source": [
    "## Covariance Shift.. Section at bottom to not interfere with running the code through"
   ]
  },
  {
   "cell_type": "markdown",
   "metadata": {},
   "source": [
    "Since the AUC score is not strong high, there is no need to drop columns. We will use all columns across the train/test model building process."
   ]
  },
  {
   "cell_type": "markdown",
   "metadata": {},
   "source": [
    "## Build the model\n",
    "- statsmodels by default uses a constant in an OLS.\n",
    "- Add a constant\n",
    "- Split into train/test (x_train, x_test are the predictors.... y_train, y_test are the target)"
   ]
  },
  {
   "cell_type": "code",
   "execution_count": 12,
   "metadata": {
    "scrolled": true
   },
   "outputs": [
    {
     "data": {
      "text/plain": [
       "(5000, 5)"
      ]
     },
     "execution_count": 12,
     "metadata": {},
     "output_type": "execute_result"
    }
   ],
   "source": [
    "# How much data do we have?\n",
    "df.shape"
   ]
  },
  {
   "cell_type": "markdown",
   "metadata": {},
   "source": [
    "5000... we can do 80/20 split and get 4k in training with 1k in validation"
   ]
  },
  {
   "cell_type": "code",
   "execution_count": 13,
   "metadata": {},
   "outputs": [],
   "source": [
    "# Train/test split -- https://scikit-learn.org/stable/modules/generated/sklearn.model_selection.train_test_split.html\n",
    "from sklearn.model_selection import train_test_split\n",
    "X = df.loc[:, ['x1', 'x1_quad', 'x2_log']]\n",
    "y = df.iloc[:, 0]"
   ]
  },
  {
   "cell_type": "code",
   "execution_count": 14,
   "metadata": {},
   "outputs": [
    {
     "name": "stderr",
     "output_type": "stream",
     "text": [
      "/Users/samlafell/anaconda3/lib/python3.7/site-packages/numpy/core/fromnumeric.py:2389: FutureWarning: Method .ptp is deprecated and will be removed in a future version. Use numpy.ptp instead.\n",
      "  return ptp(axis=axis, out=out, **kwargs)\n"
     ]
    }
   ],
   "source": [
    "# Add constant\n",
    "from statsmodels.tools.tools import add_constant \n",
    "\n",
    "X = add_constant(X)"
   ]
  },
  {
   "cell_type": "code",
   "execution_count": 15,
   "metadata": {},
   "outputs": [],
   "source": [
    "X_train, X_test, y_train, y_test = train_test_split(X, y, test_size=0.20, random_state=42) # Random State to reproduce"
   ]
  },
  {
   "cell_type": "code",
   "execution_count": 16,
   "metadata": {},
   "outputs": [
    {
     "name": "stdout",
     "output_type": "stream",
     "text": [
      "                            OLS Regression Results                            \n",
      "==============================================================================\n",
      "Dep. Variable:                      y   R-squared:                       0.673\n",
      "Model:                            OLS   Adj. R-squared:                  0.673\n",
      "Method:                 Least Squares   F-statistic:                     2747.\n",
      "Date:                Mon, 20 Jan 2020   Prob (F-statistic):               0.00\n",
      "Time:                        14:29:19   Log-Likelihood:                -6216.3\n",
      "No. Observations:                4000   AIC:                         1.244e+04\n",
      "Df Residuals:                    3996   BIC:                         1.247e+04\n",
      "Df Model:                           3                                         \n",
      "Covariance Type:            nonrobust                                         \n",
      "==============================================================================\n",
      "                 coef    std err          t      P>|t|      [0.025      0.975]\n",
      "------------------------------------------------------------------------------\n",
      "const          0.3942      0.022     17.631      0.000       0.350       0.438\n",
      "x1             0.5324      0.018     29.745      0.000       0.497       0.568\n",
      "x1_quad        0.4025      0.012     32.311      0.000       0.378       0.427\n",
      "x2_log         1.7832      0.022     79.373      0.000       1.739       1.827\n",
      "==============================================================================\n",
      "Omnibus:                       96.264   Durbin-Watson:                   2.006\n",
      "Prob(Omnibus):                  0.000   Jarque-Bera (JB):              177.052\n",
      "Skew:                          -0.178   Prob(JB):                     3.58e-39\n",
      "Kurtosis:                       3.967   Cond. No.                         2.57\n",
      "==============================================================================\n",
      "\n",
      "Warnings:\n",
      "[1] Standard Errors assume that the covariance matrix of the errors is correctly specified.\n"
     ]
    }
   ],
   "source": [
    "# Build OLS model\n",
    "import statsmodels.api as sm\n",
    "model = sm.OLS(y_train, X_train)\n",
    "results = model.fit()\n",
    "print(results.summary())"
   ]
  },
  {
   "cell_type": "code",
   "execution_count": 17,
   "metadata": {},
   "outputs": [],
   "source": [
    "# Calculate RMSE of model\n",
    "#import numpy as np\n",
    "OLS = [[(np.mean((y_train - results.predict(X_train))**2)**.5), (np.mean((y_test - results.predict(X_test))**2)**.5)]]"
   ]
  },
  {
   "cell_type": "code",
   "execution_count": 18,
   "metadata": {},
   "outputs": [],
   "source": [
    "# Want to create a DF to compare RMSE across models\n",
    "track_results = pd.DataFrame(columns=['train_RMSE', 'validation_RMSE'])"
   ]
  },
  {
   "cell_type": "code",
   "execution_count": 19,
   "metadata": {},
   "outputs": [],
   "source": [
    "# Append results to list\n",
    "track_results = track_results.append(pd.DataFrame(OLS, columns=track_results.columns), ignore_index=True)\n",
    "track_results.index = ['OLS']"
   ]
  },
  {
   "cell_type": "code",
   "execution_count": 20,
   "metadata": {},
   "outputs": [
    {
     "data": {
      "text/html": [
       "<div>\n",
       "<style scoped>\n",
       "    .dataframe tbody tr th:only-of-type {\n",
       "        vertical-align: middle;\n",
       "    }\n",
       "\n",
       "    .dataframe tbody tr th {\n",
       "        vertical-align: top;\n",
       "    }\n",
       "\n",
       "    .dataframe thead th {\n",
       "        text-align: right;\n",
       "    }\n",
       "</style>\n",
       "<table border=\"1\" class=\"dataframe\">\n",
       "  <thead>\n",
       "    <tr style=\"text-align: right;\">\n",
       "      <th></th>\n",
       "      <th>train_RMSE</th>\n",
       "      <th>validation_RMSE</th>\n",
       "    </tr>\n",
       "  </thead>\n",
       "  <tbody>\n",
       "    <tr>\n",
       "      <th>OLS</th>\n",
       "      <td>1.144696</td>\n",
       "      <td>1.119409</td>\n",
       "    </tr>\n",
       "  </tbody>\n",
       "</table>\n",
       "</div>"
      ],
      "text/plain": [
       "     train_RMSE  validation_RMSE\n",
       "OLS    1.144696         1.119409"
      ]
     },
     "execution_count": 20,
     "metadata": {},
     "output_type": "execute_result"
    }
   ],
   "source": [
    "# RMSE drops from 1.44 to 1.119 after adding in Quad and Log terms to model\n",
    "track_results"
   ]
  },
  {
   "cell_type": "code",
   "execution_count": 21,
   "metadata": {},
   "outputs": [
    {
     "data": {
      "image/png": "[encoded data removed]",
      "text/plain": [
       "<Figure size 432x288 with 1 Axes>"
      ]
     },
     "metadata": {
      "needs_background": "light"
     },
     "output_type": "display_data"
    }
   ],
   "source": [
    "## Normality -- QQ Plot is a quick and dirty visualization. Statsmodels in Python.\n",
    "import statsmodels\n",
    "import matplotlib.pyplot as plt\n",
    "statsmodels.graphics.gofplots.qqplot((y_train - results.predict(X_train)), line='45')\n",
    "plt.show()\n",
    "\n",
    "# Looking at this plot, normality is SHAKY at best. We have a skewed distribution.\n",
    "# Equally, normality is one of the strictest assumptions and the more important thing is that our distribution is symmetric"
   ]
  },
  {
   "cell_type": "code",
   "execution_count": 22,
   "metadata": {},
   "outputs": [
    {
     "data": {
      "text/plain": [
       "<matplotlib.axes._subplots.AxesSubplot at 0x1c242e9eb8>"
      ]
     },
     "execution_count": 22,
     "metadata": {},
     "output_type": "execute_result"
    },
    {
     "data": {
      "image/png": "[encoded data removed]",
      "text/plain": [
       "<Figure size 432x288 with 1 Axes>"
      ]
     },
     "metadata": {
      "needs_background": "light"
     },
     "output_type": "display_data"
    }
   ],
   "source": [
    "# Let's plot a histogram of our residuals\n",
    "import seaborn as sns\n",
    "sns.distplot(y_train - results.predict(X_train))"
   ]
  },
  {
   "cell_type": "code",
   "execution_count": 23,
   "metadata": {
    "scrolled": true
   },
   "outputs": [
    {
     "data": {
      "image/png": "[encoded data removed]",
      "text/plain": [
       "<Figure size 432x288 with 1 Axes>"
      ]
     },
     "execution_count": 23,
     "metadata": {},
     "output_type": "execute_result"
    },
    {
     "data": {
      "image/png": "[encoded data removed]",
      "text/plain": [
       "<Figure size 432x288 with 1 Axes>"
      ]
     },
     "metadata": {
      "needs_background": "light"
     },
     "output_type": "display_data"
    }
   ],
   "source": [
    "# Linear Relationship of the residuals?\n",
    "statsmodels.graphics.gofplots.qqplot((y_train - results.predict(X_train)), line='r')"
   ]
  },
  {
   "cell_type": "code",
   "execution_count": 24,
   "metadata": {},
   "outputs": [
    {
     "data": {
      "text/plain": [
       "<matplotlib.axes._subplots.AxesSubplot at 0x1c24209e10>"
      ]
     },
     "execution_count": 24,
     "metadata": {},
     "output_type": "execute_result"
    },
    {
     "data": {
      "image/png": "[encoded data removed]",
      "text/plain": [
       "<Figure size 432x288 with 1 Axes>"
      ]
     },
     "metadata": {
      "needs_background": "light"
     },
     "output_type": "display_data"
    }
   ],
   "source": [
    "# Check homoscedasticity\n",
    "sns.scatterplot(y=(y_train - results.predict(X_train)), x=results.predict(X_train))\n",
    "# All good"
   ]
  },
  {
   "cell_type": "markdown",
   "metadata": {},
   "source": [
    "## Multiple Regression Thoughts\n",
    "- We have `track_results` which has our RMSE for train and validation\n",
    "- We probably don't have normality but our distribution is symmetric for the most part with some extra in the tails, so that's a decision on our part if we accept this or not.\n",
    "- Collinearity not a concern.\n",
    "- Linear relationship ... iffy\n",
    "- Homoscedasticity of residuals\n",
    "\n",
    "So, we meet our assumptions except with x2 it doesn't look linear\n",
    "\n",
    "- RMSE: 1.46 and 1.43 -- changed to 1.14 and 1.11\n",
    "- R2 around .667"
   ]
  },
  {
   "cell_type": "code",
   "execution_count": 25,
   "metadata": {},
   "outputs": [
    {
     "data": {
      "text/html": [
       "<div>\n",
       "<style scoped>\n",
       "    .dataframe tbody tr th:only-of-type {\n",
       "        vertical-align: middle;\n",
       "    }\n",
       "\n",
       "    .dataframe tbody tr th {\n",
       "        vertical-align: top;\n",
       "    }\n",
       "\n",
       "    .dataframe thead th {\n",
       "        text-align: right;\n",
       "    }\n",
       "</style>\n",
       "<table border=\"1\" class=\"dataframe\">\n",
       "  <thead>\n",
       "    <tr style=\"text-align: right;\">\n",
       "      <th></th>\n",
       "      <th>train_RMSE</th>\n",
       "      <th>validation_RMSE</th>\n",
       "    </tr>\n",
       "  </thead>\n",
       "  <tbody>\n",
       "    <tr>\n",
       "      <th>OLS</th>\n",
       "      <td>1.144696</td>\n",
       "      <td>1.119409</td>\n",
       "    </tr>\n",
       "  </tbody>\n",
       "</table>\n",
       "</div>"
      ],
      "text/plain": [
       "     train_RMSE  validation_RMSE\n",
       "OLS    1.144696         1.119409"
      ]
     },
     "execution_count": 25,
     "metadata": {},
     "output_type": "execute_result"
    }
   ],
   "source": [
    "track_results"
   ]
  },
  {
   "cell_type": "markdown",
   "metadata": {},
   "source": [
    "## Decision Tree"
   ]
  },
  {
   "cell_type": "markdown",
   "metadata": {},
   "source": [
    "https://scikit-learn.org/stable/modules/tree.html"
   ]
  },
  {
   "cell_type": "code",
   "execution_count": 26,
   "metadata": {},
   "outputs": [],
   "source": [
    "from sklearn import tree"
   ]
  },
  {
   "cell_type": "code",
   "execution_count": 27,
   "metadata": {},
   "outputs": [],
   "source": [
    "clf = tree.DecisionTreeRegressor()\n",
    "clf = clf.fit(X_train, y_train)"
   ]
  },
  {
   "cell_type": "code",
   "execution_count": 28,
   "metadata": {},
   "outputs": [],
   "source": [
    "Tree = [[(np.mean((y_train - clf.predict(X_train))**2)**.5), (np.mean((y_test - clf.predict(X_test))**2)**.5)]]"
   ]
  },
  {
   "cell_type": "code",
   "execution_count": 29,
   "metadata": {},
   "outputs": [],
   "source": [
    "# Append results to list\n",
    "track_results = track_results.append(pd.DataFrame(Tree, columns=track_results.columns), ignore_index=True)\n",
    "track_results.index = ['OLS', 'Tree']"
   ]
  },
  {
   "cell_type": "code",
   "execution_count": 30,
   "metadata": {},
   "outputs": [
    {
     "data": {
      "text/html": [
       "<div>\n",
       "<style scoped>\n",
       "    .dataframe tbody tr th:only-of-type {\n",
       "        vertical-align: middle;\n",
       "    }\n",
       "\n",
       "    .dataframe tbody tr th {\n",
       "        vertical-align: top;\n",
       "    }\n",
       "\n",
       "    .dataframe thead th {\n",
       "        text-align: right;\n",
       "    }\n",
       "</style>\n",
       "<table border=\"1\" class=\"dataframe\">\n",
       "  <thead>\n",
       "    <tr style=\"text-align: right;\">\n",
       "      <th></th>\n",
       "      <th>train_RMSE</th>\n",
       "      <th>validation_RMSE</th>\n",
       "    </tr>\n",
       "  </thead>\n",
       "  <tbody>\n",
       "    <tr>\n",
       "      <th>OLS</th>\n",
       "      <td>1.144696</td>\n",
       "      <td>1.119409</td>\n",
       "    </tr>\n",
       "    <tr>\n",
       "      <th>Tree</th>\n",
       "      <td>0.000005</td>\n",
       "      <td>1.444976</td>\n",
       "    </tr>\n",
       "  </tbody>\n",
       "</table>\n",
       "</div>"
      ],
      "text/plain": [
       "      train_RMSE  validation_RMSE\n",
       "OLS     1.144696         1.119409\n",
       "Tree    0.000005         1.444976"
      ]
     },
     "execution_count": 30,
     "metadata": {},
     "output_type": "execute_result"
    }
   ],
   "source": [
    "track_results"
   ]
  },
  {
   "cell_type": "markdown",
   "metadata": {},
   "source": [
    "The train_RMSE might be wrong on the tree, and I'm not quite sure the exact math behind it.\n",
    "\n",
    "Although, it makes sense because the training data was used to create the splits along the regression tree and would thus be incredibly biased.\n",
    "\n",
    "It doesn't predict as well on OOB data."
   ]
  },
  {
   "cell_type": "markdown",
   "metadata": {},
   "source": [
    "## Neural Net?!"
   ]
  },
  {
   "cell_type": "code",
   "execution_count": 31,
   "metadata": {},
   "outputs": [
    {
     "data": {
      "text/plain": [
       "MLPRegressor(activation='logistic', alpha=0.0001, batch_size='auto', beta_1=0.9,\n",
       "             beta_2=0.999, early_stopping=False, epsilon=1e-08,\n",
       "             hidden_layer_sizes=(100, 50), learning_rate='constant',\n",
       "             learning_rate_init=0.001, max_fun=15000, max_iter=500,\n",
       "             momentum=0.9, n_iter_no_change=10, nesterovs_momentum=True,\n",
       "             power_t=0.5, random_state=42, shuffle=True, solver='adam',\n",
       "             tol=0.01, validation_fraction=0.1, verbose=False,\n",
       "             warm_start=False)"
      ]
     },
     "execution_count": 31,
     "metadata": {},
     "output_type": "execute_result"
    }
   ],
   "source": [
    "from sklearn.neural_network import MLPRegressor\n",
    "neural_net = MLPRegressor(hidden_layer_sizes=(100, 50), activation='logistic', random_state = 42, tol=0.01, max_iter=500)\n",
    "neural_net.fit(X_train, y_train)"
   ]
  },
  {
   "cell_type": "code",
   "execution_count": 32,
   "metadata": {},
   "outputs": [],
   "source": [
    "#neural_net.predict(X_test)"
   ]
  },
  {
   "cell_type": "code",
   "execution_count": 33,
   "metadata": {},
   "outputs": [],
   "source": [
    "Neural_Net = [[(np.mean((y_train - neural_net.predict(X_train))**2)**.5), (np.mean((y_test - neural_net.predict(X_test))**2)**.5)]]"
   ]
  },
  {
   "cell_type": "code",
   "execution_count": 34,
   "metadata": {},
   "outputs": [
    {
     "data": {
      "text/plain": [
       "[[1.1584234608707156, 1.1252488721455436]]"
      ]
     },
     "execution_count": 34,
     "metadata": {},
     "output_type": "execute_result"
    }
   ],
   "source": [
    "Neural_Net"
   ]
  },
  {
   "cell_type": "code",
   "execution_count": 35,
   "metadata": {},
   "outputs": [],
   "source": [
    "# Append results to list\n",
    "track_results = track_results.append(pd.DataFrame(Neural_Net, columns=track_results.columns), ignore_index=True)\n",
    "track_results.index = ['OLS', 'Tree', 'Neural_Net']"
   ]
  },
  {
   "cell_type": "code",
   "execution_count": 36,
   "metadata": {},
   "outputs": [
    {
     "data": {
      "text/html": [
       "<div>\n",
       "<style scoped>\n",
       "    .dataframe tbody tr th:only-of-type {\n",
       "        vertical-align: middle;\n",
       "    }\n",
       "\n",
       "    .dataframe tbody tr th {\n",
       "        vertical-align: top;\n",
       "    }\n",
       "\n",
       "    .dataframe thead th {\n",
       "        text-align: right;\n",
       "    }\n",
       "</style>\n",
       "<table border=\"1\" class=\"dataframe\">\n",
       "  <thead>\n",
       "    <tr style=\"text-align: right;\">\n",
       "      <th></th>\n",
       "      <th>train_RMSE</th>\n",
       "      <th>validation_RMSE</th>\n",
       "    </tr>\n",
       "  </thead>\n",
       "  <tbody>\n",
       "    <tr>\n",
       "      <th>OLS</th>\n",
       "      <td>1.144696</td>\n",
       "      <td>1.119409</td>\n",
       "    </tr>\n",
       "    <tr>\n",
       "      <th>Tree</th>\n",
       "      <td>0.000005</td>\n",
       "      <td>1.444976</td>\n",
       "    </tr>\n",
       "    <tr>\n",
       "      <th>Neural_Net</th>\n",
       "      <td>1.158423</td>\n",
       "      <td>1.125249</td>\n",
       "    </tr>\n",
       "  </tbody>\n",
       "</table>\n",
       "</div>"
      ],
      "text/plain": [
       "            train_RMSE  validation_RMSE\n",
       "OLS           1.144696         1.119409\n",
       "Tree          0.000005         1.444976\n",
       "Neural_Net    1.158423         1.125249"
      ]
     },
     "execution_count": 36,
     "metadata": {},
     "output_type": "execute_result"
    }
   ],
   "source": [
    "track_results"
   ]
  },
  {
   "cell_type": "markdown",
   "metadata": {},
   "source": [
    "## Note about Neural Net\n",
    "- The algorithm didn't converge on defaults and had to adjust parameters.\n",
    "- RMSE is significantly better."
   ]
  },
  {
   "cell_type": "markdown",
   "metadata": {},
   "source": [
    "# XGBoost\n",
    "https://xgboost.readthedocs.io/en/latest/python/python_intro.html"
   ]
  },
  {
   "cell_type": "code",
   "execution_count": 37,
   "metadata": {},
   "outputs": [],
   "source": [
    "#pip install xgboost"
   ]
  },
  {
   "cell_type": "code",
   "execution_count": 38,
   "metadata": {},
   "outputs": [],
   "source": [
    "import xgboost as xgb"
   ]
  },
  {
   "cell_type": "code",
   "execution_count": 39,
   "metadata": {
    "scrolled": true
   },
   "outputs": [
    {
     "name": "stderr",
     "output_type": "stream",
     "text": [
      "/Users/samlafell/anaconda3/lib/python3.7/site-packages/xgboost/core.py:587: FutureWarning: Series.base is deprecated and will be removed in a future version\n",
      "  if getattr(data, 'base', None) is not None and \\\n"
     ]
    }
   ],
   "source": [
    "dtrain = xgb.DMatrix(X_train.iloc[:,1:], label=y_train)\n",
    "dtest = xgb.DMatrix(X_test.iloc[:,1:], label=y_test)"
   ]
  },
  {
   "cell_type": "code",
   "execution_count": 58,
   "metadata": {},
   "outputs": [],
   "source": [
    "param = {'max_depth': 4, 'eta': .348}\n",
    "evallist = [(dtest, 'eval'), (dtrain, 'train')]\n",
    "num_round = 10"
   ]
  },
  {
   "cell_type": "code",
   "execution_count": 59,
   "metadata": {},
   "outputs": [
    {
     "name": "stdout",
     "output_type": "stream",
     "text": [
      "[0]\teval-rmse:1.59045\ttrain-rmse:1.60469\n",
      "[1]\teval-rmse:1.33603\ttrain-rmse:1.32431\n",
      "[2]\teval-rmse:1.19688\ttrain-rmse:1.16981\n",
      "[3]\teval-rmse:1.11599\ttrain-rmse:1.08214\n",
      "[4]\teval-rmse:1.07116\ttrain-rmse:1.03321\n",
      "[5]\teval-rmse:1.04491\ttrain-rmse:1.00453\n",
      "[6]\teval-rmse:1.03293\ttrain-rmse:0.988899\n",
      "[7]\teval-rmse:1.02846\ttrain-rmse:0.978751\n",
      "[8]\teval-rmse:1.02503\ttrain-rmse:0.972097\n",
      "[9]\teval-rmse:1.0234\ttrain-rmse:0.968557\n"
     ]
    }
   ],
   "source": [
    "bst = xgb.train(param, dtrain, num_round, evallist)"
   ]
  },
  {
   "cell_type": "code",
   "execution_count": 60,
   "metadata": {},
   "outputs": [],
   "source": [
    "ypred = bst.predict(dtest)"
   ]
  },
  {
   "cell_type": "code",
   "execution_count": 61,
   "metadata": {},
   "outputs": [],
   "source": [
    "ypred_train = bst.predict(dtrain)"
   ]
  },
  {
   "cell_type": "code",
   "execution_count": 62,
   "metadata": {},
   "outputs": [],
   "source": [
    "XGBoost = [[(np.mean((y_train - bst.predict(dtrain))**2)**.5), (np.mean((y_test - bst.predict(dtest))**2)**.5)]]"
   ]
  },
  {
   "cell_type": "code",
   "execution_count": 63,
   "metadata": {},
   "outputs": [],
   "source": [
    "# Append results to list\n",
    "track_results = track_results.append(pd.DataFrame(XGBoost, columns=track_results.columns), ignore_index=True)\n",
    "track_results.index = ['OLS', 'Tree', 'Neural_Net', 'XGBoost']"
   ]
  },
  {
   "cell_type": "code",
   "execution_count": 64,
   "metadata": {},
   "outputs": [
    {
     "data": {
      "text/html": [
       "<div>\n",
       "<style scoped>\n",
       "    .dataframe tbody tr th:only-of-type {\n",
       "        vertical-align: middle;\n",
       "    }\n",
       "\n",
       "    .dataframe tbody tr th {\n",
       "        vertical-align: top;\n",
       "    }\n",
       "\n",
       "    .dataframe thead th {\n",
       "        text-align: right;\n",
       "    }\n",
       "</style>\n",
       "<table border=\"1\" class=\"dataframe\">\n",
       "  <thead>\n",
       "    <tr style=\"text-align: right;\">\n",
       "      <th></th>\n",
       "      <th>train_RMSE</th>\n",
       "      <th>validation_RMSE</th>\n",
       "    </tr>\n",
       "  </thead>\n",
       "  <tbody>\n",
       "    <tr>\n",
       "      <th>OLS</th>\n",
       "      <td>1.144696</td>\n",
       "      <td>1.119409</td>\n",
       "    </tr>\n",
       "    <tr>\n",
       "      <th>Tree</th>\n",
       "      <td>0.000005</td>\n",
       "      <td>1.444976</td>\n",
       "    </tr>\n",
       "    <tr>\n",
       "      <th>Neural_Net</th>\n",
       "      <td>1.158423</td>\n",
       "      <td>1.125249</td>\n",
       "    </tr>\n",
       "    <tr>\n",
       "      <th>XGBoost</th>\n",
       "      <td>0.968557</td>\n",
       "      <td>1.023400</td>\n",
       "    </tr>\n",
       "  </tbody>\n",
       "</table>\n",
       "</div>"
      ],
      "text/plain": [
       "            train_RMSE  validation_RMSE\n",
       "OLS           1.144696         1.119409\n",
       "Tree          0.000005         1.444976\n",
       "Neural_Net    1.158423         1.125249\n",
       "XGBoost       0.968557         1.023400"
      ]
     },
     "execution_count": 64,
     "metadata": {},
     "output_type": "execute_result"
    }
   ],
   "source": [
    "track_results"
   ]
  },
  {
   "cell_type": "markdown",
   "metadata": {},
   "source": [
    "# Candidate Models\n",
    "## OLS, Tree, Neural_Net, XGBoost"
   ]
  },
  {
   "cell_type": "markdown",
   "metadata": {},
   "source": [
    "A Boosted model with a max-depth of 4 and an eta of .35 gave the best Validation_RMSE out of all candidate models with RMSE of 1.02, a significant increase from 1.44 from OLS in the beginning.\n",
    "\n",
    "Will use XGBoost to make final predictions on test data."
   ]
  },
  {
   "cell_type": "code",
   "execution_count": 79,
   "metadata": {},
   "outputs": [],
   "source": [
    "test = pd.read_csv('TestData.csv')"
   ]
  },
  {
   "cell_type": "code",
   "execution_count": 80,
   "metadata": {},
   "outputs": [],
   "source": [
    "# Do same Tranformations to test data\n",
    "test['x1_quad'] = (test.iloc[:,1]**2)\n",
    "test['x2_log'] = np.log(df.iloc[:,2])\n",
    "test = test.loc[:, ['x1', 'x1_quad', 'x2_log']]"
   ]
  },
  {
   "cell_type": "code",
   "execution_count": 83,
   "metadata": {},
   "outputs": [],
   "source": [
    "dtest_last = xgb.DMatrix(test)"
   ]
  },
  {
   "cell_type": "code",
   "execution_count": 84,
   "metadata": {},
   "outputs": [],
   "source": [
    "final_predictions = bst.predict(dtest_last)"
   ]
  },
  {
   "cell_type": "code",
   "execution_count": 85,
   "metadata": {},
   "outputs": [],
   "source": [
    "pd.DataFrame(final_predictions).to_csv('final_predictions.csv')"
   ]
  },
  {
   "cell_type": "code",
   "execution_count": null,
   "metadata": {},
   "outputs": [],
   "source": []
  },
  {
   "cell_type": "markdown",
   "metadata": {},
   "source": [
    "## Covariance Shifting"
   ]
  },
  {
   "cell_type": "markdown",
   "metadata": {},
   "source": [
    "To prevent extrapolation in our final model, we want to see if x1 and x2 in training occupy the same 'space' as x1 and x2 in our test dataset.\n",
    "\n",
    "This will prevent extrapolation and getting poor accuracy for our model in the end."
   ]
  },
  {
   "cell_type": "markdown",
   "metadata": {},
   "source": [
    "1. Import test data\n",
    "2. Assign a new column to training and test.\n",
    "    - \"train_data\" = 1 if in training and 0 if in test\n",
    "3. Concatentate data set\n",
    "4. Use X1 and X2 to predict \"train_data\"\n",
    "    - Decision Tree\n",
    "    - Measure with AUC and Variable Importance\n",
    "5. If X1 or X2 are strong and the model is good, drop X1 or X2\n",
    "    - Caviat: They should not be that strong because there are only two variables and it would be weird to have just one variable predicting y in the end."
   ]
  },
  {
   "cell_type": "code",
   "execution_count": 79,
   "metadata": {},
   "outputs": [],
   "source": [
    "# Import test \n",
    "test = pd.read_csv('TestData.csv')"
   ]
  },
  {
   "cell_type": "code",
   "execution_count": 90,
   "metadata": {},
   "outputs": [],
   "source": [
    "# Assign new columns\n",
    "df['is_train'] = 1\n",
    "test['is_train'] = 0"
   ]
  },
  {
   "cell_type": "code",
   "execution_count": 91,
   "metadata": {},
   "outputs": [],
   "source": [
    "# Combine datasets\n",
    "combined = pd.concat([df.iloc[:,1:], test.iloc[:,1:]], ignore_index=True, axis=0)"
   ]
  },
  {
   "cell_type": "code",
   "execution_count": 101,
   "metadata": {},
   "outputs": [],
   "source": [
    "y = combined['is_train'].values\n",
    "X = combined.drop('is_train', axis=1).values"
   ]
  },
  {
   "cell_type": "code",
   "execution_count": 111,
   "metadata": {},
   "outputs": [],
   "source": [
    "from sklearn.ensemble import RandomForestClassifier\n",
    "m = RandomForestClassifier(n_jobs=-1, max_depth=5, min_samples_leaf = 5)\n",
    "predictions = np.zeros(y.shape)"
   ]
  },
  {
   "cell_type": "code",
   "execution_count": 125,
   "metadata": {},
   "outputs": [
    {
     "name": "stderr",
     "output_type": "stream",
     "text": [
      "/Users/samlafell/anaconda3/lib/python3.7/site-packages/sklearn/ensemble/forest.py:245: FutureWarning: The default value of n_estimators will change from 10 in version 0.20 to 100 in 0.22.\n"
     ]
    }
   ],
   "source": [
    "from sklearn.model_selection import StratifiedKFold\n",
    "skf = StratifiedKFold(n_splits=20, shuffle=True, random_state=100)\n",
    "for fold, (train_idx, test_idx) in enumerate(skf.split(X, y)):\n",
    "    X_train, X_test = X[train_idx], X[test_idx]\n",
    "    y_train, y_test = y[train_idx], y[test_idx]\n",
    "    \n",
    "    m.fit(X_train, y_train)\n",
    "    probs = m.predict_proba(X_test)[:, 1] #calculating the probability\n",
    "    predictions[test_idx] = probs"
   ]
  },
  {
   "cell_type": "code",
   "execution_count": 130,
   "metadata": {},
   "outputs": [
    {
     "data": {
      "text/plain": [
       "0.495754695108416"
      ]
     },
     "execution_count": 130,
     "metadata": {},
     "output_type": "execute_result"
    }
   ],
   "source": [
    "from sklearn.metrics import auc\n",
    "auc(y, predictions)"
   ]
  },
  {
   "cell_type": "markdown",
   "metadata": {},
   "source": [
    "Since the AUC score on this model is not strong, there is no need to drop one of the columns. We will use both columns across the train/test model building process."
   ]
  },
  {
   "cell_type": "markdown",
   "metadata": {},
   "source": [
    "## Restart Kernal. Don't run Covariance Shifting"
   ]
  },
  {
   "cell_type": "code",
   "execution_count": null,
   "metadata": {},
   "outputs": [],
   "source": []
  }
 ],
 "metadata": {
  "kernelspec": {
   "display_name": "Python 3",
   "language": "python",
   "name": "python3"
  },
  "language_info": {
   "codemirror_mode": {
    "name": "ipython",
    "version": 3
   },
   "file_extension": ".py",
   "mimetype": "text/x-python",
   "name": "python",
   "nbconvert_exporter": "python",
   "pygments_lexer": "ipython3",
   "version": "3.7.3"
  },
  "varInspector": {
   "cols": {
    "lenName": 16,
    "lenType": 16,
    "lenVar": 40
   },
   "kernels_config": {
    "python": {
     "delete_cmd_postfix": "",
     "delete_cmd_prefix": "del ",
     "library": "var_list.py",
     "varRefreshCmd": "print(var_dic_list())"
    },
    "r": {
     "delete_cmd_postfix": ") ",
     "delete_cmd_prefix": "rm(",
     "library": "var_list.r",
     "varRefreshCmd": "cat(var_dic_list()) "
    }
   },
   "types_to_exclude": [
    "module",
    "function",
    "builtin_function_or_method",
    "instance",
    "_Feature"
   ],
   "window_display": false
  }
 },
 "nbformat": 4,
 "nbformat_minor": 2
}
