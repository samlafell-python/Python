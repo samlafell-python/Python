{
 "cells": [
  {
   "cell_type": "markdown",
   "metadata": {},
   "source": [
    "# Data Science Practice Problem\n",
    "\n",
    "Company XYZ Human Resource department is trying to understand compensation across the company and asked you to pull data to help them make a decision regarding employee compensation.\n",
    "\n",
    "Question: Can you pull the average, median, minimum, maximum, and standard deviations for salary across 5 year experience buckets at Company XYZ? (e.g. get the corresponding average, median, minimum, maximum, and standard deviations for experience buckets 0-5, 5-10, 10-15, etc.)"
   ]
  },
  {
   "cell_type": "code",
   "execution_count": 2,
   "metadata": {},
   "outputs": [],
   "source": [
    "import pandas as pd\n",
    "import numpy as np"
   ]
  },
  {
   "cell_type": "markdown",
   "metadata": {},
   "source": [
    "# Creating the Data"
   ]
  },
  {
   "cell_type": "code",
   "execution_count": 3,
   "metadata": {},
   "outputs": [],
   "source": [
    "# Define Random Values\n",
    "years_employed = np.random.randint(0, 14, 500)"
   ]
  },
  {
   "cell_type": "code",
   "execution_count": 4,
   "metadata": {},
   "outputs": [],
   "source": [
    "# Create DataFrame\n",
    "df = pd.DataFrame({'Years_Experience': years_employed})"
   ]
  },
  {
   "cell_type": "code",
   "execution_count": 5,
   "metadata": {},
   "outputs": [],
   "source": [
    "# Fill Compensation conditionality based on the value of Years Experience so that the Compensation is related to experience as expected\n",
    "df['Compensation'] = np.where(df['Years_Experience'] < 5, np.random.randint(60000, 150000, len(df['Years_Experience'] < 5)), 0 )\n",
    "df['Compensation'] = np.where(df['Years_Experience'] >= 5, np.random.randint(100000, 400000, len(df['Years_Experience'] >= 5)), df['Compensation'])\n",
    "df['Compensation'] = np.where(df['Years_Experience'] >= 10, np.random.randint(170000, 4000000, len(df['Years_Experience'] >= 10)), df['Compensation'])"
   ]
  },
  {
   "cell_type": "markdown",
   "metadata": {},
   "source": [
    "# Creating Information Stores"
   ]
  },
  {
   "cell_type": "code",
   "execution_count": 6,
   "metadata": {},
   "outputs": [],
   "source": [
    "# Create Dict to Store Values\n",
    "less_5 = {'Avg_Salary': '${:,.2f}'.format(df['Compensation'][df['Years_Experience'] < 5].mean()),\n",
    "          'Min_Compensation': '${:,.2f}'.format(df['Compensation'][df['Years_Experience'] < 5].min()),\n",
    "          'Max_Compensation': '${:,.2f}'.format(df['Compensation'][df['Years_Experience'] < 5].max()),\n",
    "          'Std_Compensation': '${:,.2f}'.format(df['Compensation'][df['Years_Experience'] < 5].std())}"
   ]
  },
  {
   "cell_type": "code",
   "execution_count": 7,
   "metadata": {},
   "outputs": [],
   "source": [
    "# Create Dict to Store Values\n",
    "five_to_ten = {'Avg_Salary': '${:,.2f}'.format(df['Compensation'][(df['Years_Experience'] < 10) & (df['Years_Experience'] >= 5)].mean()),\n",
    "          'Min_Compensation': '${:,.2f}'.format(df['Compensation'][(df['Years_Experience'] < 10) & (df['Years_Experience'] >= 5)].min()),\n",
    "          'Max_Compensation': '${:,.2f}'.format(df['Compensation'][(df['Years_Experience'] < 10) & (df['Years_Experience'] >= 5)].max()),\n",
    "          'Std_Compensation': '${:,.2f}'.format(df['Compensation'][(df['Years_Experience'] < 10) & (df['Years_Experience'] >= 5)].std())}"
   ]
  },
  {
   "cell_type": "code",
   "execution_count": 8,
   "metadata": {},
   "outputs": [],
   "source": [
    "# Create Dict to Store Values\n",
    "ten_plus = {'Avg_Salary': '${:,.2f}'.format(df['Compensation'][df['Years_Experience'] >= 10].mean()),\n",
    "          'Min_Compensation': '${:,.2f}'.format(df['Compensation'][df['Years_Experience'] >= 10].min()),\n",
    "          'Max_Compensation': '${:,.2f}'.format(df['Compensation'][df['Years_Experience'] >= 10].max()),\n",
    "          'Std_Compensation': '${:,.2f}'.format(df['Compensation'][df['Years_Experience'] < 10].std())}"
   ]
  },
  {
   "cell_type": "markdown",
   "metadata": {},
   "source": [
    "# Reporting out the Information"
   ]
  },
  {
   "cell_type": "code",
   "execution_count": 9,
   "metadata": {},
   "outputs": [
    {
     "name": "stdout",
     "output_type": "stream",
     "text": [
      "The Average Salary for:\n",
      "      - 5 or less years experience is: $101,954.09\n",
      "      - 10 or less years experience is: $256,355.72\n",
      "      - 10+ years experience is: $2,097,409.94\n"
     ]
    }
   ],
   "source": [
    "# Report out the Average Salary\n",
    "print('''The Average Salary for:\n",
    "      - 5 or less years experience is: {}\n",
    "      - 10 or less years experience is: {}\n",
    "      - 10+ years experience is: {}'''.format(less_5['Avg_Salary'], five_to_ten['Avg_Salary'], ten_plus['Avg_Salary']))"
   ]
  },
  {
   "cell_type": "code",
   "execution_count": 10,
   "metadata": {},
   "outputs": [
    {
     "name": "stdout",
     "output_type": "stream",
     "text": [
      "The Minimum Salary for:\n",
      "      - 5 or less years experience is: $60,064.00\n",
      "      - 10 or less years experience is: $102,817.00\n",
      "      - 10+ years experience is: $205,384.00\n"
     ]
    }
   ],
   "source": [
    "# Report out the Minimum Salary\n",
    "print('''The Minimum Salary for:\n",
    "      - 5 or less years experience is: {}\n",
    "      - 10 or less years experience is: {}\n",
    "      - 10+ years experience is: {}'''.format(less_5['Min_Compensation'], five_to_ten['Min_Compensation'], ten_plus['Min_Compensation']))"
   ]
  },
  {
   "cell_type": "code",
   "execution_count": 11,
   "metadata": {},
   "outputs": [
    {
     "name": "stdout",
     "output_type": "stream",
     "text": [
      "The Maximum Salary for:\n",
      "      - 5 or less years experience is: $148,796.00\n",
      "      - 10 or less years experience is: $397,872.00\n",
      "      - 10+ years experience is: $3,978,237.00\n"
     ]
    }
   ],
   "source": [
    "# Report out the Maximum Salary\n",
    "print('''The Maximum Salary for:\n",
    "      - 5 or less years experience is: {}\n",
    "      - 10 or less years experience is: {}\n",
    "      - 10+ years experience is: {}'''.format(less_5['Max_Compensation'], five_to_ten['Max_Compensation'], ten_plus['Max_Compensation']))"
   ]
  },
  {
   "cell_type": "code",
   "execution_count": 12,
   "metadata": {
    "scrolled": true
   },
   "outputs": [
    {
     "name": "stdout",
     "output_type": "stream",
     "text": [
      "The Standard Deviation of Salary for:\n",
      "      - 5 or less years experience is: $25,259.73\n",
      "      - 10 or less years experience is: $84,383.69\n",
      "      - 10+ years experience is: $98,545.31\n"
     ]
    }
   ],
   "source": [
    "# Report out the Standard Deviation\n",
    "print('''The Standard Deviation of Salary for:\n",
    "      - 5 or less years experience is: {}\n",
    "      - 10 or less years experience is: {}\n",
    "      - 10+ years experience is: {}'''.format(less_5['Std_Compensation'], five_to_ten['Std_Compensation'], ten_plus['Std_Compensation']))"
   ]
  },
  {
   "cell_type": "markdown",
   "metadata": {},
   "source": [
    "# Visualizing the Information"
   ]
  },
  {
   "cell_type": "code",
   "execution_count": 13,
   "metadata": {},
   "outputs": [],
   "source": [
    "import seaborn as sns\n",
    "sns.set(style=\"darkgrid\")"
   ]
  },
  {
   "cell_type": "code",
   "execution_count": 21,
   "metadata": {
    "scrolled": true
   },
   "outputs": [
    {
     "data": {
      "text/plain": [
       "<matplotlib.axes._subplots.AxesSubplot at 0x1a20295e50>"
      ]
     },
     "execution_count": 21,
     "metadata": {},
     "output_type": "execute_result"
    },
    {
     "data": {
      "image/png": "[encoded data removed]",
      "text/plain": [
       "<Figure size 432x288 with 1 Axes>"
      ]
     },
     "metadata": {
      "needs_background": "light"
     },
     "output_type": "display_data"
    }
   ],
   "source": [
    "sns.boxplot(x=\"Years_Experience\", y=\"Compensation\", palette=[\"m\", \"g\"], data=df)"
   ]
  },
  {
   "cell_type": "code",
   "execution_count": 17,
   "metadata": {
    "scrolled": true
   },
   "outputs": [
    {
     "data": {
      "text/html": [
       "<div>\n",
       "<style scoped>\n",
       "    .dataframe tbody tr th:only-of-type {\n",
       "        vertical-align: middle;\n",
       "    }\n",
       "\n",
       "    .dataframe tbody tr th {\n",
       "        vertical-align: top;\n",
       "    }\n",
       "\n",
       "    .dataframe thead th {\n",
       "        text-align: right;\n",
       "    }\n",
       "</style>\n",
       "<table border=\"1\" class=\"dataframe\">\n",
       "  <thead>\n",
       "    <tr style=\"text-align: right;\">\n",
       "      <th></th>\n",
       "      <th>Years_Experience</th>\n",
       "      <th>Compensation</th>\n",
       "    </tr>\n",
       "  </thead>\n",
       "  <tbody>\n",
       "    <tr>\n",
       "      <td>0</td>\n",
       "      <td>0</td>\n",
       "      <td>83664</td>\n",
       "    </tr>\n",
       "    <tr>\n",
       "      <td>1</td>\n",
       "      <td>1</td>\n",
       "      <td>97793</td>\n",
       "    </tr>\n",
       "    <tr>\n",
       "      <td>2</td>\n",
       "      <td>13</td>\n",
       "      <td>3978237</td>\n",
       "    </tr>\n",
       "    <tr>\n",
       "      <td>3</td>\n",
       "      <td>5</td>\n",
       "      <td>120097</td>\n",
       "    </tr>\n",
       "    <tr>\n",
       "      <td>4</td>\n",
       "      <td>6</td>\n",
       "      <td>192174</td>\n",
       "    </tr>\n",
       "    <tr>\n",
       "      <td>...</td>\n",
       "      <td>...</td>\n",
       "      <td>...</td>\n",
       "    </tr>\n",
       "    <tr>\n",
       "      <td>495</td>\n",
       "      <td>3</td>\n",
       "      <td>125729</td>\n",
       "    </tr>\n",
       "    <tr>\n",
       "      <td>496</td>\n",
       "      <td>2</td>\n",
       "      <td>122160</td>\n",
       "    </tr>\n",
       "    <tr>\n",
       "      <td>497</td>\n",
       "      <td>13</td>\n",
       "      <td>2688144</td>\n",
       "    </tr>\n",
       "    <tr>\n",
       "      <td>498</td>\n",
       "      <td>10</td>\n",
       "      <td>536549</td>\n",
       "    </tr>\n",
       "    <tr>\n",
       "      <td>499</td>\n",
       "      <td>1</td>\n",
       "      <td>60064</td>\n",
       "    </tr>\n",
       "  </tbody>\n",
       "</table>\n",
       "<p>500 rows × 2 columns</p>\n",
       "</div>"
      ],
      "text/plain": [
       "     Years_Experience  Compensation\n",
       "0                   0         83664\n",
       "1                   1         97793\n",
       "2                  13       3978237\n",
       "3                   5        120097\n",
       "4                   6        192174\n",
       "..                ...           ...\n",
       "495                 3        125729\n",
       "496                 2        122160\n",
       "497                13       2688144\n",
       "498                10        536549\n",
       "499                 1         60064\n",
       "\n",
       "[500 rows x 2 columns]"
      ]
     },
     "execution_count": 17,
     "metadata": {},
     "output_type": "execute_result"
    }
   ],
   "source": [
    "df"
   ]
  },
  {
   "cell_type": "code",
   "execution_count": 22,
   "metadata": {},
   "outputs": [],
   "source": [
    "# Group the Years_Experience to make visualization easier across the 3 bins\n",
    "df['Group'] = np.where(df['Years_Experience'] < 5, 1, 0 )\n",
    "df['Group'] = np.where(df['Years_Experience'] >= 5, 2, df['Group'])\n",
    "df['Group'] = np.where(df['Years_Experience'] >= 10, 3, df['Group'])"
   ]
  },
  {
   "cell_type": "code",
   "execution_count": 28,
   "metadata": {},
   "outputs": [
    {
     "data": {
      "text/plain": [
       "<matplotlib.axes._subplots.AxesSubplot at 0x1a1fdc9e10>"
      ]
     },
     "execution_count": 28,
     "metadata": {},
     "output_type": "execute_result"
    },
    {
     "data": {
      "image/png": "[encoded data removed]",
      "text/plain": [
       "<Figure size 432x288 with 1 Axes>"
      ]
     },
     "metadata": {
      "needs_background": "light"
     },
     "output_type": "display_data"
    }
   ],
   "source": [
    "# How do the groups look compared to each other?\n",
    "sns.boxplot(x=\"Group\", y=\"Compensation\", palette=[\"m\", \"g\"], data=df)"
   ]
  },
  {
   "cell_type": "code",
   "execution_count": 26,
   "metadata": {},
   "outputs": [
    {
     "data": {
      "text/plain": [
       "20.57210203401297"
      ]
     },
     "execution_count": 26,
     "metadata": {},
     "output_type": "execute_result"
    }
   ],
   "source": [
    "# How much more, on average, do Group 3 employees make than Group 1 employees\n",
    "df[df['Group'] == 3].Compensation.mean() / df[df['Group'] == 1].Compensation.mean()"
   ]
  },
  {
   "cell_type": "code",
   "execution_count": 27,
   "metadata": {},
   "outputs": [
    {
     "data": {
      "text/plain": [
       "20.60857139956549"
      ]
     },
     "execution_count": 27,
     "metadata": {},
     "output_type": "execute_result"
    }
   ],
   "source": [
    "df[df['Group'] == 3].Compensation.median() / df[df['Group'] == 1].Compensation.median()"
   ]
  },
  {
   "cell_type": "markdown",
   "metadata": {},
   "source": [
    "## Business Conclusion: Our 10+ years experience employees are paid, on average, 20x more than our 0-5 years experience employees\n",
    "\n",
    "### The Median gives  us a similar number because the numbers were pulled from a random, normal distribution"
   ]
  }
 ],
 "metadata": {
  "kernelspec": {
   "display_name": "Python 3",
   "language": "python",
   "name": "python3"
  },
  "language_info": {
   "codemirror_mode": {
    "name": "ipython",
    "version": 3
   },
   "file_extension": ".py",
   "mimetype": "text/x-python",
   "name": "python",
   "nbconvert_exporter": "python",
   "pygments_lexer": "ipython3",
   "version": "3.7.4"
  }
 },
 "nbformat": 4,
 "nbformat_minor": 2
}
