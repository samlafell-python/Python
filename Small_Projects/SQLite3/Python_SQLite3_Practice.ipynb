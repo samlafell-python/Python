{
 "cells": [
  {
   "cell_type": "markdown",
   "metadata": {},
   "source": [
    "# Practice with SQLite 3 with a given prompt"
   ]
  },
  {
   "cell_type": "markdown",
   "metadata": {},
   "source": [
    "You are given the below tables, showing Store, Product, and Sales information for a chain of grocery stores. The columns are labeled in such a way that you should be able to interpret what each field is showing."
   ]
  },
  {
   "cell_type": "markdown",
   "metadata": {},
   "source": [
    "First up, we need to create the tables..."
   ]
  },
  {
   "cell_type": "code",
   "execution_count": 1,
   "metadata": {},
   "outputs": [],
   "source": [
    "import sqlite3"
   ]
  },
  {
   "cell_type": "code",
   "execution_count": 2,
   "metadata": {},
   "outputs": [],
   "source": [
    "# Create DB\n",
    "connection = sqlite3.connect(\"test_DB.db\")"
   ]
  },
  {
   "cell_type": "code",
   "execution_count": 3,
   "metadata": {},
   "outputs": [],
   "source": [
    "# Define SQL Tables\n",
    "sql_table1 = \"\"\"\n",
    "CREATE TABLE store ( \n",
    "store_number INTEGER PRIMARY KEY, \n",
    "location text);\"\"\"\n",
    "\n",
    "sql_table2 = \"\"\"\n",
    "CREATE TABLE product ( \n",
    "product_id INTEGER PRIMARY KEY, \n",
    "product_name text,\n",
    "price_usd real);\"\"\"\n",
    "\n",
    "sql_table3 = \"\"\"\n",
    "CREATE TABLE sales ( \n",
    "sale_id INTEGER,\n",
    "product_id integer,\n",
    "store_id integer,\n",
    "date DATE);\"\"\""
   ]
  },
  {
   "cell_type": "code",
   "execution_count": 4,
   "metadata": {},
   "outputs": [],
   "source": [
    "# Establish a Connection to the Database\n",
    "cursor = connection.cursor()"
   ]
  },
  {
   "cell_type": "code",
   "execution_count": 5,
   "metadata": {},
   "outputs": [
    {
     "data": {
      "text/plain": [
       "<sqlite3.Cursor at 0x111cdef10>"
      ]
     },
     "execution_count": 5,
     "metadata": {},
     "output_type": "execute_result"
    }
   ],
   "source": [
    "# delete \n",
    "#cursor.execute(\"\"\"DROP TABLE store;\"\"\")\n",
    "#cursor.execute(\"\"\"DROP TABLE product;\"\"\")\n",
    "#cursor.execute(\"\"\"DROP TABLE sales;\"\"\")"
   ]
  },
  {
   "cell_type": "code",
   "execution_count": 6,
   "metadata": {},
   "outputs": [
    {
     "data": {
      "text/plain": [
       "<sqlite3.Cursor at 0x111cdef10>"
      ]
     },
     "execution_count": 6,
     "metadata": {},
     "output_type": "execute_result"
    }
   ],
   "source": [
    "# Initialize the tables\n",
    "cursor.execute(sql_table1)\n",
    "cursor.execute(sql_table2)\n",
    "cursor.execute(sql_table3)"
   ]
  },
  {
   "cell_type": "code",
   "execution_count": 7,
   "metadata": {},
   "outputs": [],
   "source": [
    "# Populate the DB's\n",
    "store_data = [ (\"91110\", \"New York\"),\n",
    "               (\"99525\", \"Los Angeles\"),\n",
    "               (\"37340\", \"Tokyo\"),\n",
    "             (\"32016\", \"Detroit\"),\n",
    "             (\"57507\", \"London\")]\n",
    "\n",
    "product_data = [ (\"31331\", \"Apples\", \"2\"),\n",
    "               (\"34611\", \"Lettuce\", \"3\"),\n",
    "               (\"49760\", \"Chicken\", \"5\"),\n",
    "             (\"26583\", \"Lemons\", \"1\"),\n",
    "             (\"20267\", \"Bread\", \"2\")]\n",
    "\n",
    "\n",
    "sales_data = [ ( \"1\",\"31331\", \"91110\", \"02/20/2020\"),\n",
    "             ( \"1\",\"31331\", \"91110\", \"02/20/2020\"),\n",
    "             ( \"2\",\"34611\", \"57507\", \"02/20/2020\"),\n",
    "             ( \"3\",\"26583\", \"37340\", \"02/20/2020\"),\n",
    "             ( \"3\",\"34611\", \"32016\", \"02/20/2020\"),\n",
    "             ( \"3\",\"20267\", \"99525\", \"02/21/2020\"),\n",
    "             ( \"4\",\"31331\", \"99525\", \"02/21/2020\"),\n",
    "             ( \"5\",\"49760\", \"99525\", \"02/21/2020\"),\n",
    "             ( \"6\",\"34611\", \"97507\", \"02/21/2020\"),\n",
    "             ( \"7\",\"31331\", \"91110\", \"02/21/2020\")]"
   ]
  },
  {
   "cell_type": "code",
   "execution_count": 8,
   "metadata": {},
   "outputs": [],
   "source": [
    "# Insert the data\n",
    "for p in store_data:\n",
    "    format_str1 = \"\"\"INSERT INTO store (store_number, location)\n",
    "    VALUES (\"{store_number}\", \"{location}\");\"\"\"\n",
    "    \n",
    "    sql_command1 = format_str1.format(store_number=p[0], location=p[1])\n",
    "    cursor.execute(sql_command1)\n",
    "    \n",
    "for l in product_data:\n",
    "    format_str2 = \"\"\"INSERT INTO product (product_id, product_name, price_usd)\n",
    "    VALUES (\"{product_id}\", \"{product_name}\", \"{price_usd}\");\"\"\"\n",
    "    \n",
    "    sql_command2 = format_str2.format(product_id=l[0], product_name=l[1], price_usd=l[2])\n",
    "    cursor.execute(sql_command2)\n",
    "    \n",
    "for k in sales_data:\n",
    "    format_str3 = \"\"\"INSERT INTO sales (sale_id, product_id, store_id, date)\n",
    "    VALUES (\"{sale_id}\", \"{product_id}\", \"{store_id}\", \"{date}\");\"\"\"\n",
    "    \n",
    "    sql_command3 = format_str3.format(sale_id=k[0], product_id=k[1], store_id=k[2], date = k[3])\n",
    "    cursor.execute(sql_command3)"
   ]
  },
  {
   "cell_type": "code",
   "execution_count": 9,
   "metadata": {},
   "outputs": [],
   "source": [
    "# Never forget this, if you want the changes to be saved:\n",
    "connection.commit()"
   ]
  },
  {
   "cell_type": "code",
   "execution_count": 10,
   "metadata": {},
   "outputs": [],
   "source": [
    "# Close the connection\n",
    "connection.close()"
   ]
  },
  {
   "cell_type": "markdown",
   "metadata": {},
   "source": [
    "## Now, query the data to get the desired answer\n",
    "\n",
    "Using the tables above, write a SQL query to return the number of sales as well as the average sale price (in dollars) for a given location.\n",
    "\n",
    "Your output should return the following columns:\n",
    "\n",
    "location\t, number_sales\t, avg_sale_price\n",
    "\n"
   ]
  },
  {
   "cell_type": "code",
   "execution_count": 11,
   "metadata": {},
   "outputs": [],
   "source": [
    "connection = sqlite3.connect(\"test_DB.db\")\n",
    "\n",
    "cursor = connection.cursor()"
   ]
  },
  {
   "cell_type": "code",
   "execution_count": 12,
   "metadata": {},
   "outputs": [
    {
     "name": "stdout",
     "output_type": "stream",
     "text": [
      "fetchall:\n",
      "(32016, 'Detroit')\n",
      "(37340, 'Tokyo')\n",
      "(57507, 'London')\n",
      "(91110, 'New York')\n",
      "(99525, 'Los Angeles')\n"
     ]
    }
   ],
   "source": [
    "# What does the data look like? Does our table pull right?\n",
    "\n",
    "# Make the query\n",
    "cursor.execute(\"SELECT * FROM store\") \n",
    "\n",
    "# Now, print the query\n",
    "print(\"fetchall:\")\n",
    "result = cursor.fetchall() \n",
    "for r in result:\n",
    "    print(r)"
   ]
  },
  {
   "cell_type": "code",
   "execution_count": 17,
   "metadata": {},
   "outputs": [
    {
     "name": "stdout",
     "output_type": "stream",
     "text": [
      "\n",
      "fetch one:\n",
      "(32016, 'Detroit')\n"
     ]
    }
   ],
   "source": [
    "## Similar, but instead do it one at a time\n",
    "cursor.execute(\"SELECT * FROM store\") \n",
    "\n",
    "# Print\n",
    "print(\"\\nfetch one:\")\n",
    "res = cursor.fetchone() \n",
    "print(res)"
   ]
  },
  {
   "cell_type": "markdown",
   "metadata": {},
   "source": [
    "Now again, our problem: \n",
    "- Using the tables above, write a SQL query to return the number of sales as well as the average sale price (in dollars) for a given location."
   ]
  },
  {
   "cell_type": "markdown",
   "metadata": {},
   "source": [
    "## The Query, which I put into SQLite\n",
    "\n",
    "SELECT \n",
    "\n",
    "    location AS Location,\n",
    "\n",
    "    count(sale_id) AS num_sales, \n",
    "    \n",
    "    avg(price_usd) AS avg_price\n",
    "\n",
    "\n",
    "FROM \n",
    "    \n",
    "    test_db.sales\n",
    "    \n",
    "    INNER JOIN test_db.store ON sales.store_id = store.store_number\n",
    "    \n",
    "    INNER JOIN test_db.product ON sales.product_id = product.product_id\n",
    "    \n",
    "\n",
    "GROUP BY \n",
    "\n",
    "    sales.store_id\n",
    "\n",
    "ORDER BY\n",
    "\n",
    "    avg_price DESC;"
   ]
  },
  {
   "cell_type": "markdown",
   "metadata": {},
   "source": [
    "## Our Results"
   ]
  },
  {
   "cell_type": "markdown",
   "metadata": {},
   "source": [
    "| Location | NUM_SALES | AVG_PRICE |\n",
    "|----------|-----------|-----------|\n",
    "|New York  |     3     |      2    |\n",
    "|Los Angeles |     3     |      3    |\n",
    "|Detroit  |     1     |      3    |\n",
    "|Tokyo  |     1     |      1    |\n",
    "|London  |     1     |      3    |"
   ]
  },
  {
   "cell_type": "markdown",
   "metadata": {},
   "source": [
    "We see that New York and LA have the highest number of sales but LA seems to be making more money per sale, on average."
   ]
  },
  {
   "cell_type": "markdown",
   "metadata": {},
   "source": [
    "This was a fun way to dive a little bit further into sqlite3 on Python and then connect to the DB in SQLite and answer the question."
   ]
  },
  {
   "cell_type": "markdown",
   "metadata": {},
   "source": []
  }
 ],
 "metadata": {
  "kernelspec": {
   "display_name": "Python 3",
   "language": "python",
   "name": "python3"
  },
  "language_info": {
   "codemirror_mode": {
    "name": "ipython",
    "version": 3
   },
   "file_extension": ".py",
   "mimetype": "text/x-python",
   "name": "python",
   "nbconvert_exporter": "python",
   "pygments_lexer": "ipython3",
   "version": "3.7.4"
  }
 },
 "nbformat": 4,
 "nbformat_minor": 2
}
